{
  "cells": [
    {
      "cell_type": "markdown",
      "metadata": {
        "id": "view-in-github",
        "colab_type": "text"
      },
      "source": [
        "<a href=\"https://colab.research.google.com/github/izabelabe/CTR-prediction/blob/main/CTR_prediction.ipynb\" target=\"_parent\"><img src=\"https://colab.research.google.com/assets/colab-badge.svg\" alt=\"Open In Colab\"/></a>"
      ]
    },
    {
      "cell_type": "code",
      "execution_count": null,
      "id": "fefa1134",
      "metadata": {
        "id": "fefa1134",
        "outputId": "1b38a1e3-6c6d-4848-f469-364572453982"
      },
      "outputs": [
        {
          "name": "stdout",
          "output_type": "stream",
          "text": [
            "Requirement already satisfied: numpy in c:\\users\\izkab\\appdata\\local\\programs\\python\\python310\\lib\\site-packages (1.21.5)"
          ]
        },
        {
          "name": "stderr",
          "output_type": "stream",
          "text": [
            "WARNING: You are using pip version 21.2.3; however, version 22.0.4 is available.\n",
            "You should consider upgrading via the 'C:\\Users\\izkab\\AppData\\Local\\Programs\\Python\\Python310\\python.exe -m pip install --upgrade pip' command.\n"
          ]
        },
        {
          "name": "stdout",
          "output_type": "stream",
          "text": [
            "\n",
            "Requirement already satisfied: pandas in c:\\users\\izkab\\appdata\\local\\programs\\python\\python310\\lib\\site-packages (1.3.5)\n",
            "Requirement already satisfied: python-dateutil>=2.7.3 in c:\\users\\izkab\\appdata\\local\\programs\\python\\python310\\lib\\site-packages (from pandas) (2.8.2)\n",
            "Requirement already satisfied: numpy>=1.21.0 in c:\\users\\izkab\\appdata\\local\\programs\\python\\python310\\lib\\site-packages (from pandas) (1.21.5)\n",
            "Requirement already satisfied: pytz>=2017.3 in c:\\users\\izkab\\appdata\\local\\programs\\python\\python310\\lib\\site-packages (from pandas) (2021.3)\n",
            "Requirement already satisfied: six>=1.5 in c:\\users\\izkab\\appdata\\local\\programs\\python\\python310\\lib\\site-packages (from python-dateutil>=2.7.3->pandas) (1.16.0)\n"
          ]
        },
        {
          "name": "stderr",
          "output_type": "stream",
          "text": [
            "WARNING: You are using pip version 21.2.3; however, version 22.0.4 is available.\n",
            "You should consider upgrading via the 'C:\\Users\\izkab\\AppData\\Local\\Programs\\Python\\Python310\\python.exe -m pip install --upgrade pip' command.\n"
          ]
        }
      ],
      "source": [
        "!pip install numpy\n",
        "!pip install pandas"
      ]
    },
    {
      "cell_type": "code",
      "execution_count": null,
      "id": "a73c34bf",
      "metadata": {
        "id": "a73c34bf",
        "outputId": "0ea74d05-21bb-447f-ac9a-27c7787be61e"
      },
      "outputs": [
        {
          "name": "stdout",
          "output_type": "stream",
          "text": [
            "Requirement already satisfied: matplotlib in c:\\users\\izkab\\appdata\\local\\programs\\python\\python310\\lib\\site-packages (3.5.1)\n",
            "Requirement already satisfied: kiwisolver>=1.0.1 in c:\\users\\izkab\\appdata\\local\\programs\\python\\python310\\lib\\site-packages (from matplotlib) (1.3.2)\n",
            "Requirement already satisfied: fonttools>=4.22.0 in c:\\users\\izkab\\appdata\\local\\programs\\python\\python310\\lib\\site-packages (from matplotlib) (4.28.5)\n",
            "Requirement already satisfied: python-dateutil>=2.7 in c:\\users\\izkab\\appdata\\local\\programs\\python\\python310\\lib\\site-packages (from matplotlib) (2.8.2)\n",
            "Requirement already satisfied: numpy>=1.17 in c:\\users\\izkab\\appdata\\local\\programs\\python\\python310\\lib\\site-packages (from matplotlib) (1.21.5)\n",
            "Requirement already satisfied: pillow>=6.2.0 in c:\\users\\izkab\\appdata\\local\\programs\\python\\python310\\lib\\site-packages (from matplotlib) (8.4.0)\n",
            "Requirement already satisfied: cycler>=0.10 in c:\\users\\izkab\\appdata\\local\\programs\\python\\python310\\lib\\site-packages (from matplotlib) (0.11.0)\n",
            "Requirement already satisfied: packaging>=20.0 in c:\\users\\izkab\\appdata\\local\\programs\\python\\python310\\lib\\site-packages (from matplotlib) (21.2)\n",
            "Requirement already satisfied: pyparsing>=2.2.1 in c:\\users\\izkab\\appdata\\local\\programs\\python\\python310\\lib\\site-packages (from matplotlib) (2.4.7)\n",
            "Requirement already satisfied: six>=1.5 in c:\\users\\izkab\\appdata\\local\\programs\\python\\python310\\lib\\site-packages (from python-dateutil>=2.7->matplotlib) (1.16.0)\n",
            "Note: you may need to restart the kernel to use updated packages.\n"
          ]
        },
        {
          "name": "stderr",
          "output_type": "stream",
          "text": [
            "WARNING: You are using pip version 21.2.3; however, version 22.0.4 is available.\n",
            "You should consider upgrading via the 'C:\\Users\\izkab\\AppData\\Local\\Programs\\Python\\Python310\\python.exe -m pip install --upgrade pip' command.\n"
          ]
        }
      ],
      "source": [
        "pip install matplotlib"
      ]
    },
    {
      "cell_type": "code",
      "execution_count": null,
      "id": "650d549d",
      "metadata": {
        "scrolled": true,
        "id": "650d549d"
      },
      "outputs": [],
      "source": [
        "import numpy as np \n",
        "import pandas as pd\n",
        "import gzip\n",
        "import random\n",
        "import matplotlib"
      ]
    },
    {
      "cell_type": "markdown",
      "id": "6e8e8fad",
      "metadata": {
        "id": "6e8e8fad"
      },
      "source": [
        "###### Reading train data, extracting a sample of size equal 1000000"
      ]
    },
    {
      "cell_type": "code",
      "execution_count": null,
      "id": "6f5807c5",
      "metadata": {
        "id": "6f5807c5"
      },
      "outputs": [],
      "source": [
        "n = 40428967\n",
        "sample_size = 1000000\n",
        "skip_values = sorted(random.sample(range(1,n), n-sample_size))\n",
        "\n",
        "with gzip.open('C:/Users/izkab/notebooks/avazu-ctr-prediction/train.gz') as f:\n",
        "    train = pd.read_csv(f,skiprows = skip_values)"
      ]
    },
    {
      "cell_type": "code",
      "execution_count": null,
      "id": "906ab7cf",
      "metadata": {
        "id": "906ab7cf",
        "outputId": "f8621173-8014-4f14-eed8-829570f45ca0"
      },
      "outputs": [
        {
          "data": {
            "text/html": [
              "<div>\n",
              "<style scoped>\n",
              "    .dataframe tbody tr th:only-of-type {\n",
              "        vertical-align: middle;\n",
              "    }\n",
              "\n",
              "    .dataframe tbody tr th {\n",
              "        vertical-align: top;\n",
              "    }\n",
              "\n",
              "    .dataframe thead th {\n",
              "        text-align: right;\n",
              "    }\n",
              "</style>\n",
              "<table border=\"1\" class=\"dataframe\">\n",
              "  <thead>\n",
              "    <tr style=\"text-align: right;\">\n",
              "      <th></th>\n",
              "      <th>id</th>\n",
              "      <th>click</th>\n",
              "      <th>hour</th>\n",
              "      <th>C1</th>\n",
              "      <th>banner_pos</th>\n",
              "      <th>site_id</th>\n",
              "      <th>site_domain</th>\n",
              "      <th>site_category</th>\n",
              "      <th>app_id</th>\n",
              "      <th>app_domain</th>\n",
              "      <th>...</th>\n",
              "      <th>device_type</th>\n",
              "      <th>device_conn_type</th>\n",
              "      <th>C14</th>\n",
              "      <th>C15</th>\n",
              "      <th>C16</th>\n",
              "      <th>C17</th>\n",
              "      <th>C18</th>\n",
              "      <th>C19</th>\n",
              "      <th>C20</th>\n",
              "      <th>C21</th>\n",
              "    </tr>\n",
              "  </thead>\n",
              "  <tbody>\n",
              "    <tr>\n",
              "      <th>0</th>\n",
              "      <td>10014285064795240866</td>\n",
              "      <td>1</td>\n",
              "      <td>14102100</td>\n",
              "      <td>1002</td>\n",
              "      <td>0</td>\n",
              "      <td>84c7ba46</td>\n",
              "      <td>c4e18dd6</td>\n",
              "      <td>50e219e0</td>\n",
              "      <td>ecad2386</td>\n",
              "      <td>7801e8d9</td>\n",
              "      <td>...</td>\n",
              "      <td>0</td>\n",
              "      <td>0</td>\n",
              "      <td>21682</td>\n",
              "      <td>320</td>\n",
              "      <td>50</td>\n",
              "      <td>2496</td>\n",
              "      <td>3</td>\n",
              "      <td>167</td>\n",
              "      <td>100191</td>\n",
              "      <td>23</td>\n",
              "    </tr>\n",
              "    <tr>\n",
              "      <th>1</th>\n",
              "      <td>10017306529805473196</td>\n",
              "      <td>0</td>\n",
              "      <td>14102100</td>\n",
              "      <td>1005</td>\n",
              "      <td>0</td>\n",
              "      <td>85f751fd</td>\n",
              "      <td>c4e18dd6</td>\n",
              "      <td>50e219e0</td>\n",
              "      <td>febd1138</td>\n",
              "      <td>82e27996</td>\n",
              "      <td>...</td>\n",
              "      <td>1</td>\n",
              "      <td>0</td>\n",
              "      <td>19743</td>\n",
              "      <td>320</td>\n",
              "      <td>50</td>\n",
              "      <td>2264</td>\n",
              "      <td>3</td>\n",
              "      <td>427</td>\n",
              "      <td>100000</td>\n",
              "      <td>61</td>\n",
              "    </tr>\n",
              "    <tr>\n",
              "      <th>2</th>\n",
              "      <td>10022750613173712651</td>\n",
              "      <td>0</td>\n",
              "      <td>14102100</td>\n",
              "      <td>1005</td>\n",
              "      <td>0</td>\n",
              "      <td>5b08c53b</td>\n",
              "      <td>7687a86e</td>\n",
              "      <td>3e814130</td>\n",
              "      <td>ecad2386</td>\n",
              "      <td>7801e8d9</td>\n",
              "      <td>...</td>\n",
              "      <td>1</td>\n",
              "      <td>0</td>\n",
              "      <td>19016</td>\n",
              "      <td>300</td>\n",
              "      <td>250</td>\n",
              "      <td>2162</td>\n",
              "      <td>2</td>\n",
              "      <td>39</td>\n",
              "      <td>-1</td>\n",
              "      <td>33</td>\n",
              "    </tr>\n",
              "    <tr>\n",
              "      <th>3</th>\n",
              "      <td>10053066225125789362</td>\n",
              "      <td>0</td>\n",
              "      <td>14102100</td>\n",
              "      <td>1010</td>\n",
              "      <td>1</td>\n",
              "      <td>85f751fd</td>\n",
              "      <td>c4e18dd6</td>\n",
              "      <td>50e219e0</td>\n",
              "      <td>b7f64446</td>\n",
              "      <td>7801e8d9</td>\n",
              "      <td>...</td>\n",
              "      <td>4</td>\n",
              "      <td>2</td>\n",
              "      <td>20352</td>\n",
              "      <td>320</td>\n",
              "      <td>50</td>\n",
              "      <td>2333</td>\n",
              "      <td>0</td>\n",
              "      <td>39</td>\n",
              "      <td>-1</td>\n",
              "      <td>157</td>\n",
              "    </tr>\n",
              "    <tr>\n",
              "      <th>4</th>\n",
              "      <td>10056536800612540706</td>\n",
              "      <td>0</td>\n",
              "      <td>14102100</td>\n",
              "      <td>1005</td>\n",
              "      <td>0</td>\n",
              "      <td>85f751fd</td>\n",
              "      <td>c4e18dd6</td>\n",
              "      <td>50e219e0</td>\n",
              "      <td>98fed791</td>\n",
              "      <td>d9b5648e</td>\n",
              "      <td>...</td>\n",
              "      <td>1</td>\n",
              "      <td>0</td>\n",
              "      <td>20980</td>\n",
              "      <td>320</td>\n",
              "      <td>50</td>\n",
              "      <td>2371</td>\n",
              "      <td>0</td>\n",
              "      <td>551</td>\n",
              "      <td>100215</td>\n",
              "      <td>46</td>\n",
              "    </tr>\n",
              "    <tr>\n",
              "      <th>5</th>\n",
              "      <td>1006019829529781335</td>\n",
              "      <td>0</td>\n",
              "      <td>14102100</td>\n",
              "      <td>1005</td>\n",
              "      <td>0</td>\n",
              "      <td>85f751fd</td>\n",
              "      <td>c4e18dd6</td>\n",
              "      <td>50e219e0</td>\n",
              "      <td>e2fcccd2</td>\n",
              "      <td>5c5a694b</td>\n",
              "      <td>...</td>\n",
              "      <td>1</td>\n",
              "      <td>0</td>\n",
              "      <td>20634</td>\n",
              "      <td>320</td>\n",
              "      <td>50</td>\n",
              "      <td>2374</td>\n",
              "      <td>3</td>\n",
              "      <td>39</td>\n",
              "      <td>-1</td>\n",
              "      <td>23</td>\n",
              "    </tr>\n",
              "    <tr>\n",
              "      <th>6</th>\n",
              "      <td>10064037090970569308</td>\n",
              "      <td>0</td>\n",
              "      <td>14102100</td>\n",
              "      <td>1005</td>\n",
              "      <td>0</td>\n",
              "      <td>030440fe</td>\n",
              "      <td>08ba7db9</td>\n",
              "      <td>76b2941d</td>\n",
              "      <td>ecad2386</td>\n",
              "      <td>7801e8d9</td>\n",
              "      <td>...</td>\n",
              "      <td>1</td>\n",
              "      <td>0</td>\n",
              "      <td>20596</td>\n",
              "      <td>320</td>\n",
              "      <td>50</td>\n",
              "      <td>2161</td>\n",
              "      <td>0</td>\n",
              "      <td>35</td>\n",
              "      <td>-1</td>\n",
              "      <td>157</td>\n",
              "    </tr>\n",
              "    <tr>\n",
              "      <th>7</th>\n",
              "      <td>10074105370227008483</td>\n",
              "      <td>0</td>\n",
              "      <td>14102100</td>\n",
              "      <td>1005</td>\n",
              "      <td>0</td>\n",
              "      <td>1fbe01fe</td>\n",
              "      <td>f3845767</td>\n",
              "      <td>28905ebd</td>\n",
              "      <td>ecad2386</td>\n",
              "      <td>7801e8d9</td>\n",
              "      <td>...</td>\n",
              "      <td>1</td>\n",
              "      <td>0</td>\n",
              "      <td>15704</td>\n",
              "      <td>320</td>\n",
              "      <td>50</td>\n",
              "      <td>1722</td>\n",
              "      <td>0</td>\n",
              "      <td>35</td>\n",
              "      <td>100084</td>\n",
              "      <td>79</td>\n",
              "    </tr>\n",
              "    <tr>\n",
              "      <th>8</th>\n",
              "      <td>10076859283156800622</td>\n",
              "      <td>0</td>\n",
              "      <td>14102100</td>\n",
              "      <td>1002</td>\n",
              "      <td>0</td>\n",
              "      <td>f17ebd97</td>\n",
              "      <td>c4e18dd6</td>\n",
              "      <td>50e219e0</td>\n",
              "      <td>ecad2386</td>\n",
              "      <td>7801e8d9</td>\n",
              "      <td>...</td>\n",
              "      <td>0</td>\n",
              "      <td>0</td>\n",
              "      <td>21692</td>\n",
              "      <td>216</td>\n",
              "      <td>36</td>\n",
              "      <td>2497</td>\n",
              "      <td>3</td>\n",
              "      <td>43</td>\n",
              "      <td>100151</td>\n",
              "      <td>42</td>\n",
              "    </tr>\n",
              "    <tr>\n",
              "      <th>9</th>\n",
              "      <td>10082363717334339331</td>\n",
              "      <td>0</td>\n",
              "      <td>14102100</td>\n",
              "      <td>1005</td>\n",
              "      <td>1</td>\n",
              "      <td>5ee41ff2</td>\n",
              "      <td>17d996e6</td>\n",
              "      <td>f028772b</td>\n",
              "      <td>ecad2386</td>\n",
              "      <td>7801e8d9</td>\n",
              "      <td>...</td>\n",
              "      <td>1</td>\n",
              "      <td>0</td>\n",
              "      <td>16920</td>\n",
              "      <td>320</td>\n",
              "      <td>50</td>\n",
              "      <td>1899</td>\n",
              "      <td>0</td>\n",
              "      <td>431</td>\n",
              "      <td>100075</td>\n",
              "      <td>117</td>\n",
              "    </tr>\n",
              "    <tr>\n",
              "      <th>10</th>\n",
              "      <td>10086149065763066227</td>\n",
              "      <td>0</td>\n",
              "      <td>14102100</td>\n",
              "      <td>1005</td>\n",
              "      <td>1</td>\n",
              "      <td>5b4d2eda</td>\n",
              "      <td>16a36ef3</td>\n",
              "      <td>f028772b</td>\n",
              "      <td>ecad2386</td>\n",
              "      <td>7801e8d9</td>\n",
              "      <td>...</td>\n",
              "      <td>1</td>\n",
              "      <td>0</td>\n",
              "      <td>20352</td>\n",
              "      <td>320</td>\n",
              "      <td>50</td>\n",
              "      <td>2333</td>\n",
              "      <td>0</td>\n",
              "      <td>39</td>\n",
              "      <td>-1</td>\n",
              "      <td>157</td>\n",
              "    </tr>\n",
              "    <tr>\n",
              "      <th>11</th>\n",
              "      <td>10086830090279683302</td>\n",
              "      <td>0</td>\n",
              "      <td>14102100</td>\n",
              "      <td>1005</td>\n",
              "      <td>0</td>\n",
              "      <td>85f751fd</td>\n",
              "      <td>c4e18dd6</td>\n",
              "      <td>50e219e0</td>\n",
              "      <td>98fed791</td>\n",
              "      <td>d9b5648e</td>\n",
              "      <td>...</td>\n",
              "      <td>1</td>\n",
              "      <td>0</td>\n",
              "      <td>20980</td>\n",
              "      <td>320</td>\n",
              "      <td>50</td>\n",
              "      <td>2371</td>\n",
              "      <td>0</td>\n",
              "      <td>551</td>\n",
              "      <td>100217</td>\n",
              "      <td>46</td>\n",
              "    </tr>\n",
              "    <tr>\n",
              "      <th>12</th>\n",
              "      <td>10088804647724908355</td>\n",
              "      <td>0</td>\n",
              "      <td>14102100</td>\n",
              "      <td>1005</td>\n",
              "      <td>0</td>\n",
              "      <td>85f751fd</td>\n",
              "      <td>c4e18dd6</td>\n",
              "      <td>50e219e0</td>\n",
              "      <td>0acbeaa3</td>\n",
              "      <td>45a51db4</td>\n",
              "      <td>...</td>\n",
              "      <td>1</td>\n",
              "      <td>0</td>\n",
              "      <td>18993</td>\n",
              "      <td>320</td>\n",
              "      <td>50</td>\n",
              "      <td>2161</td>\n",
              "      <td>0</td>\n",
              "      <td>35</td>\n",
              "      <td>-1</td>\n",
              "      <td>157</td>\n",
              "    </tr>\n",
              "    <tr>\n",
              "      <th>13</th>\n",
              "      <td>10092620596755684008</td>\n",
              "      <td>0</td>\n",
              "      <td>14102100</td>\n",
              "      <td>1002</td>\n",
              "      <td>0</td>\n",
              "      <td>c74e86fb</td>\n",
              "      <td>7bd4e8cc</td>\n",
              "      <td>50e219e0</td>\n",
              "      <td>ecad2386</td>\n",
              "      <td>7801e8d9</td>\n",
              "      <td>...</td>\n",
              "      <td>0</td>\n",
              "      <td>0</td>\n",
              "      <td>15700</td>\n",
              "      <td>300</td>\n",
              "      <td>50</td>\n",
              "      <td>1722</td>\n",
              "      <td>0</td>\n",
              "      <td>35</td>\n",
              "      <td>-1</td>\n",
              "      <td>79</td>\n",
              "    </tr>\n",
              "    <tr>\n",
              "      <th>14</th>\n",
              "      <td>10094408897649203285</td>\n",
              "      <td>0</td>\n",
              "      <td>14102100</td>\n",
              "      <td>1005</td>\n",
              "      <td>0</td>\n",
              "      <td>1fbe01fe</td>\n",
              "      <td>f3845767</td>\n",
              "      <td>28905ebd</td>\n",
              "      <td>ecad2386</td>\n",
              "      <td>7801e8d9</td>\n",
              "      <td>...</td>\n",
              "      <td>1</td>\n",
              "      <td>0</td>\n",
              "      <td>15708</td>\n",
              "      <td>320</td>\n",
              "      <td>50</td>\n",
              "      <td>1722</td>\n",
              "      <td>0</td>\n",
              "      <td>35</td>\n",
              "      <td>-1</td>\n",
              "      <td>79</td>\n",
              "    </tr>\n",
              "  </tbody>\n",
              "</table>\n",
              "<p>15 rows × 24 columns</p>\n",
              "</div>"
            ],
            "text/plain": [
              "                      id  click      hour    C1  banner_pos   site_id  \\\n",
              "0   10014285064795240866      1  14102100  1002           0  84c7ba46   \n",
              "1   10017306529805473196      0  14102100  1005           0  85f751fd   \n",
              "2   10022750613173712651      0  14102100  1005           0  5b08c53b   \n",
              "3   10053066225125789362      0  14102100  1010           1  85f751fd   \n",
              "4   10056536800612540706      0  14102100  1005           0  85f751fd   \n",
              "5    1006019829529781335      0  14102100  1005           0  85f751fd   \n",
              "6   10064037090970569308      0  14102100  1005           0  030440fe   \n",
              "7   10074105370227008483      0  14102100  1005           0  1fbe01fe   \n",
              "8   10076859283156800622      0  14102100  1002           0  f17ebd97   \n",
              "9   10082363717334339331      0  14102100  1005           1  5ee41ff2   \n",
              "10  10086149065763066227      0  14102100  1005           1  5b4d2eda   \n",
              "11  10086830090279683302      0  14102100  1005           0  85f751fd   \n",
              "12  10088804647724908355      0  14102100  1005           0  85f751fd   \n",
              "13  10092620596755684008      0  14102100  1002           0  c74e86fb   \n",
              "14  10094408897649203285      0  14102100  1005           0  1fbe01fe   \n",
              "\n",
              "   site_domain site_category    app_id app_domain  ... device_type  \\\n",
              "0     c4e18dd6      50e219e0  ecad2386   7801e8d9  ...           0   \n",
              "1     c4e18dd6      50e219e0  febd1138   82e27996  ...           1   \n",
              "2     7687a86e      3e814130  ecad2386   7801e8d9  ...           1   \n",
              "3     c4e18dd6      50e219e0  b7f64446   7801e8d9  ...           4   \n",
              "4     c4e18dd6      50e219e0  98fed791   d9b5648e  ...           1   \n",
              "5     c4e18dd6      50e219e0  e2fcccd2   5c5a694b  ...           1   \n",
              "6     08ba7db9      76b2941d  ecad2386   7801e8d9  ...           1   \n",
              "7     f3845767      28905ebd  ecad2386   7801e8d9  ...           1   \n",
              "8     c4e18dd6      50e219e0  ecad2386   7801e8d9  ...           0   \n",
              "9     17d996e6      f028772b  ecad2386   7801e8d9  ...           1   \n",
              "10    16a36ef3      f028772b  ecad2386   7801e8d9  ...           1   \n",
              "11    c4e18dd6      50e219e0  98fed791   d9b5648e  ...           1   \n",
              "12    c4e18dd6      50e219e0  0acbeaa3   45a51db4  ...           1   \n",
              "13    7bd4e8cc      50e219e0  ecad2386   7801e8d9  ...           0   \n",
              "14    f3845767      28905ebd  ecad2386   7801e8d9  ...           1   \n",
              "\n",
              "   device_conn_type    C14  C15  C16   C17  C18  C19     C20  C21  \n",
              "0                 0  21682  320   50  2496    3  167  100191   23  \n",
              "1                 0  19743  320   50  2264    3  427  100000   61  \n",
              "2                 0  19016  300  250  2162    2   39      -1   33  \n",
              "3                 2  20352  320   50  2333    0   39      -1  157  \n",
              "4                 0  20980  320   50  2371    0  551  100215   46  \n",
              "5                 0  20634  320   50  2374    3   39      -1   23  \n",
              "6                 0  20596  320   50  2161    0   35      -1  157  \n",
              "7                 0  15704  320   50  1722    0   35  100084   79  \n",
              "8                 0  21692  216   36  2497    3   43  100151   42  \n",
              "9                 0  16920  320   50  1899    0  431  100075  117  \n",
              "10                0  20352  320   50  2333    0   39      -1  157  \n",
              "11                0  20980  320   50  2371    0  551  100217   46  \n",
              "12                0  18993  320   50  2161    0   35      -1  157  \n",
              "13                0  15700  300   50  1722    0   35      -1   79  \n",
              "14                0  15708  320   50  1722    0   35      -1   79  \n",
              "\n",
              "[15 rows x 24 columns]"
            ]
          },
          "execution_count": 7,
          "metadata": {},
          "output_type": "execute_result"
        }
      ],
      "source": [
        "train.head(15)"
      ]
    },
    {
      "cell_type": "markdown",
      "id": "cd483fa6",
      "metadata": {
        "id": "cd483fa6"
      },
      "source": [
        "### Preparing data for time related analysis"
      ]
    },
    {
      "cell_type": "code",
      "execution_count": null,
      "id": "d7e2c3a8",
      "metadata": {
        "id": "d7e2c3a8",
        "outputId": "d4b27fab-21ea-402c-f295-ae4ea839d2a6"
      },
      "outputs": [
        {
          "data": {
            "text/html": [
              "<div>\n",
              "<style scoped>\n",
              "    .dataframe tbody tr th:only-of-type {\n",
              "        vertical-align: middle;\n",
              "    }\n",
              "\n",
              "    .dataframe tbody tr th {\n",
              "        vertical-align: top;\n",
              "    }\n",
              "\n",
              "    .dataframe thead th {\n",
              "        text-align: right;\n",
              "    }\n",
              "</style>\n",
              "<table border=\"1\" class=\"dataframe\">\n",
              "  <thead>\n",
              "    <tr style=\"text-align: right;\">\n",
              "      <th></th>\n",
              "      <th>click</th>\n",
              "      <th>hour</th>\n",
              "    </tr>\n",
              "  </thead>\n",
              "  <tbody>\n",
              "    <tr>\n",
              "      <th>0</th>\n",
              "      <td>1</td>\n",
              "      <td>14102100</td>\n",
              "    </tr>\n",
              "    <tr>\n",
              "      <th>1</th>\n",
              "      <td>0</td>\n",
              "      <td>14102100</td>\n",
              "    </tr>\n",
              "    <tr>\n",
              "      <th>2</th>\n",
              "      <td>0</td>\n",
              "      <td>14102100</td>\n",
              "    </tr>\n",
              "    <tr>\n",
              "      <th>3</th>\n",
              "      <td>0</td>\n",
              "      <td>14102100</td>\n",
              "    </tr>\n",
              "    <tr>\n",
              "      <th>4</th>\n",
              "      <td>0</td>\n",
              "      <td>14102100</td>\n",
              "    </tr>\n",
              "  </tbody>\n",
              "</table>\n",
              "</div>"
            ],
            "text/plain": [
              "   click      hour\n",
              "0      1  14102100\n",
              "1      0  14102100\n",
              "2      0  14102100\n",
              "3      0  14102100\n",
              "4      0  14102100"
            ]
          },
          "execution_count": 8,
          "metadata": {},
          "output_type": "execute_result"
        }
      ],
      "source": [
        "dateinfo = train[[\"click\", \"hour\"]]\n",
        "dateinfo.head()"
      ]
    },
    {
      "cell_type": "code",
      "execution_count": null,
      "id": "454d8410",
      "metadata": {
        "id": "454d8410",
        "outputId": "6f7f6a60-9067-40a3-e4b8-08be93cfa1c1"
      },
      "outputs": [
        {
          "data": {
            "text/plain": [
              "click    int64\n",
              "hour     int64\n",
              "dtype: object"
            ]
          },
          "execution_count": 9,
          "metadata": {},
          "output_type": "execute_result"
        }
      ],
      "source": [
        "dateinfo.dtypes"
      ]
    },
    {
      "cell_type": "code",
      "execution_count": null,
      "id": "ea226a79",
      "metadata": {
        "id": "ea226a79"
      },
      "outputs": [],
      "source": [
        "dateinfo = dateinfo.astype({'hour' : 'string'})"
      ]
    },
    {
      "cell_type": "code",
      "execution_count": null,
      "id": "41558f7a",
      "metadata": {
        "id": "41558f7a"
      },
      "outputs": [],
      "source": [
        "#parse_date = lambda val : pd.datetime.strptime(val, '%y%m%d%H')\n",
        "#test = parse_dates = train[\"hour\"], date_parser = parse_date  "
      ]
    },
    {
      "cell_type": "code",
      "execution_count": null,
      "id": "efbcb88f",
      "metadata": {
        "id": "efbcb88f"
      },
      "outputs": [],
      "source": [
        "dateinfo[\"year\"] = dateinfo['hour'].values\n",
        "dateinfo[\"month\"] = dateinfo['hour'].values\n",
        "dateinfo[\"day\"] = dateinfo['hour'].values"
      ]
    },
    {
      "cell_type": "code",
      "execution_count": null,
      "id": "ec073e34",
      "metadata": {
        "id": "ec073e34",
        "outputId": "85a26d43-f25d-4f64-c2cd-c9a5b168f50d"
      },
      "outputs": [
        {
          "data": {
            "text/plain": [
              "click     int64\n",
              "hour     string\n",
              "year     string\n",
              "month    string\n",
              "day      string\n",
              "dtype: object"
            ]
          },
          "execution_count": 13,
          "metadata": {},
          "output_type": "execute_result"
        }
      ],
      "source": [
        "dateinfo.dtypes"
      ]
    },
    {
      "cell_type": "code",
      "execution_count": null,
      "id": "d35313da",
      "metadata": {
        "id": "d35313da"
      },
      "outputs": [],
      "source": [
        "dateinfo[\"hour\"] = dateinfo[\"hour\"].str.slice(6,8)\n",
        "dateinfo[\"year\"] = dateinfo[\"year\"].str.slice(0,2)\n",
        "dateinfo[\"month\"] = dateinfo[\"month\"].str.slice(2,4)\n",
        "dateinfo[\"day\"] = dateinfo[\"day\"].str.slice(4,6)"
      ]
    },
    {
      "cell_type": "code",
      "execution_count": null,
      "id": "20f67104",
      "metadata": {
        "id": "20f67104",
        "outputId": "596325bd-e87e-4578-b6a2-45c508ac78b3"
      },
      "outputs": [
        {
          "data": {
            "text/html": [
              "<div>\n",
              "<style scoped>\n",
              "    .dataframe tbody tr th:only-of-type {\n",
              "        vertical-align: middle;\n",
              "    }\n",
              "\n",
              "    .dataframe tbody tr th {\n",
              "        vertical-align: top;\n",
              "    }\n",
              "\n",
              "    .dataframe thead th {\n",
              "        text-align: right;\n",
              "    }\n",
              "</style>\n",
              "<table border=\"1\" class=\"dataframe\">\n",
              "  <thead>\n",
              "    <tr style=\"text-align: right;\">\n",
              "      <th></th>\n",
              "      <th>click</th>\n",
              "      <th>hour</th>\n",
              "      <th>year</th>\n",
              "      <th>month</th>\n",
              "      <th>day</th>\n",
              "    </tr>\n",
              "  </thead>\n",
              "  <tbody>\n",
              "    <tr>\n",
              "      <th>0</th>\n",
              "      <td>1</td>\n",
              "      <td>00</td>\n",
              "      <td>14</td>\n",
              "      <td>10</td>\n",
              "      <td>21</td>\n",
              "    </tr>\n",
              "    <tr>\n",
              "      <th>1</th>\n",
              "      <td>0</td>\n",
              "      <td>00</td>\n",
              "      <td>14</td>\n",
              "      <td>10</td>\n",
              "      <td>21</td>\n",
              "    </tr>\n",
              "    <tr>\n",
              "      <th>2</th>\n",
              "      <td>0</td>\n",
              "      <td>00</td>\n",
              "      <td>14</td>\n",
              "      <td>10</td>\n",
              "      <td>21</td>\n",
              "    </tr>\n",
              "    <tr>\n",
              "      <th>3</th>\n",
              "      <td>0</td>\n",
              "      <td>00</td>\n",
              "      <td>14</td>\n",
              "      <td>10</td>\n",
              "      <td>21</td>\n",
              "    </tr>\n",
              "    <tr>\n",
              "      <th>4</th>\n",
              "      <td>0</td>\n",
              "      <td>00</td>\n",
              "      <td>14</td>\n",
              "      <td>10</td>\n",
              "      <td>21</td>\n",
              "    </tr>\n",
              "    <tr>\n",
              "      <th>5</th>\n",
              "      <td>0</td>\n",
              "      <td>00</td>\n",
              "      <td>14</td>\n",
              "      <td>10</td>\n",
              "      <td>21</td>\n",
              "    </tr>\n",
              "    <tr>\n",
              "      <th>6</th>\n",
              "      <td>0</td>\n",
              "      <td>00</td>\n",
              "      <td>14</td>\n",
              "      <td>10</td>\n",
              "      <td>21</td>\n",
              "    </tr>\n",
              "    <tr>\n",
              "      <th>7</th>\n",
              "      <td>0</td>\n",
              "      <td>00</td>\n",
              "      <td>14</td>\n",
              "      <td>10</td>\n",
              "      <td>21</td>\n",
              "    </tr>\n",
              "    <tr>\n",
              "      <th>8</th>\n",
              "      <td>0</td>\n",
              "      <td>00</td>\n",
              "      <td>14</td>\n",
              "      <td>10</td>\n",
              "      <td>21</td>\n",
              "    </tr>\n",
              "    <tr>\n",
              "      <th>9</th>\n",
              "      <td>0</td>\n",
              "      <td>00</td>\n",
              "      <td>14</td>\n",
              "      <td>10</td>\n",
              "      <td>21</td>\n",
              "    </tr>\n",
              "  </tbody>\n",
              "</table>\n",
              "</div>"
            ],
            "text/plain": [
              "   click hour year month day\n",
              "0      1   00   14    10  21\n",
              "1      0   00   14    10  21\n",
              "2      0   00   14    10  21\n",
              "3      0   00   14    10  21\n",
              "4      0   00   14    10  21\n",
              "5      0   00   14    10  21\n",
              "6      0   00   14    10  21\n",
              "7      0   00   14    10  21\n",
              "8      0   00   14    10  21\n",
              "9      0   00   14    10  21"
            ]
          },
          "execution_count": 15,
          "metadata": {},
          "output_type": "execute_result"
        }
      ],
      "source": [
        "dateinfo.head(10)"
      ]
    },
    {
      "cell_type": "code",
      "execution_count": null,
      "id": "61d6f1bb",
      "metadata": {
        "id": "61d6f1bb",
        "outputId": "8a215419-0f9b-4cdb-c8d7-4e1924182c55"
      },
      "outputs": [
        {
          "data": {
            "text/html": [
              "<div>\n",
              "<style scoped>\n",
              "    .dataframe tbody tr th:only-of-type {\n",
              "        vertical-align: middle;\n",
              "    }\n",
              "\n",
              "    .dataframe tbody tr th {\n",
              "        vertical-align: top;\n",
              "    }\n",
              "\n",
              "    .dataframe thead th {\n",
              "        text-align: right;\n",
              "    }\n",
              "</style>\n",
              "<table border=\"1\" class=\"dataframe\">\n",
              "  <thead>\n",
              "    <tr style=\"text-align: right;\">\n",
              "      <th></th>\n",
              "      <th>click</th>\n",
              "      <th>hour</th>\n",
              "      <th>year</th>\n",
              "      <th>month</th>\n",
              "      <th>day</th>\n",
              "    </tr>\n",
              "  </thead>\n",
              "  <tbody>\n",
              "    <tr>\n",
              "      <th>999990</th>\n",
              "      <td>0</td>\n",
              "      <td>23</td>\n",
              "      <td>14</td>\n",
              "      <td>10</td>\n",
              "      <td>30</td>\n",
              "    </tr>\n",
              "    <tr>\n",
              "      <th>999991</th>\n",
              "      <td>0</td>\n",
              "      <td>23</td>\n",
              "      <td>14</td>\n",
              "      <td>10</td>\n",
              "      <td>30</td>\n",
              "    </tr>\n",
              "    <tr>\n",
              "      <th>999992</th>\n",
              "      <td>1</td>\n",
              "      <td>23</td>\n",
              "      <td>14</td>\n",
              "      <td>10</td>\n",
              "      <td>30</td>\n",
              "    </tr>\n",
              "    <tr>\n",
              "      <th>999993</th>\n",
              "      <td>1</td>\n",
              "      <td>23</td>\n",
              "      <td>14</td>\n",
              "      <td>10</td>\n",
              "      <td>30</td>\n",
              "    </tr>\n",
              "    <tr>\n",
              "      <th>999994</th>\n",
              "      <td>0</td>\n",
              "      <td>23</td>\n",
              "      <td>14</td>\n",
              "      <td>10</td>\n",
              "      <td>30</td>\n",
              "    </tr>\n",
              "    <tr>\n",
              "      <th>999995</th>\n",
              "      <td>0</td>\n",
              "      <td>23</td>\n",
              "      <td>14</td>\n",
              "      <td>10</td>\n",
              "      <td>30</td>\n",
              "    </tr>\n",
              "    <tr>\n",
              "      <th>999996</th>\n",
              "      <td>0</td>\n",
              "      <td>23</td>\n",
              "      <td>14</td>\n",
              "      <td>10</td>\n",
              "      <td>30</td>\n",
              "    </tr>\n",
              "    <tr>\n",
              "      <th>999997</th>\n",
              "      <td>0</td>\n",
              "      <td>23</td>\n",
              "      <td>14</td>\n",
              "      <td>10</td>\n",
              "      <td>30</td>\n",
              "    </tr>\n",
              "    <tr>\n",
              "      <th>999998</th>\n",
              "      <td>0</td>\n",
              "      <td>23</td>\n",
              "      <td>14</td>\n",
              "      <td>10</td>\n",
              "      <td>30</td>\n",
              "    </tr>\n",
              "    <tr>\n",
              "      <th>999999</th>\n",
              "      <td>0</td>\n",
              "      <td>23</td>\n",
              "      <td>14</td>\n",
              "      <td>10</td>\n",
              "      <td>30</td>\n",
              "    </tr>\n",
              "  </tbody>\n",
              "</table>\n",
              "</div>"
            ],
            "text/plain": [
              "        click hour year month day\n",
              "999990      0   23   14    10  30\n",
              "999991      0   23   14    10  30\n",
              "999992      1   23   14    10  30\n",
              "999993      1   23   14    10  30\n",
              "999994      0   23   14    10  30\n",
              "999995      0   23   14    10  30\n",
              "999996      0   23   14    10  30\n",
              "999997      0   23   14    10  30\n",
              "999998      0   23   14    10  30\n",
              "999999      0   23   14    10  30"
            ]
          },
          "execution_count": 16,
          "metadata": {},
          "output_type": "execute_result"
        }
      ],
      "source": [
        "dateinfo.tail(10)"
      ]
    },
    {
      "cell_type": "markdown",
      "id": "4ab24683",
      "metadata": {
        "id": "4ab24683"
      },
      "source": [
        "#### Distinction of hours when users clicked on a displayed add"
      ]
    },
    {
      "cell_type": "code",
      "execution_count": null,
      "id": "f53b1dac",
      "metadata": {
        "id": "f53b1dac",
        "outputId": "dff6d66e-87d8-4330-adfe-45cd9079857a"
      },
      "outputs": [
        {
          "data": {
            "text/html": [
              "<div>\n",
              "<style scoped>\n",
              "    .dataframe tbody tr th:only-of-type {\n",
              "        vertical-align: middle;\n",
              "    }\n",
              "\n",
              "    .dataframe tbody tr th {\n",
              "        vertical-align: top;\n",
              "    }\n",
              "\n",
              "    .dataframe thead th {\n",
              "        text-align: right;\n",
              "    }\n",
              "</style>\n",
              "<table border=\"1\" class=\"dataframe\">\n",
              "  <thead>\n",
              "    <tr style=\"text-align: right;\">\n",
              "      <th></th>\n",
              "      <th>click</th>\n",
              "      <th>hour</th>\n",
              "    </tr>\n",
              "  </thead>\n",
              "  <tbody>\n",
              "    <tr>\n",
              "      <th>0</th>\n",
              "      <td>1</td>\n",
              "      <td>00</td>\n",
              "    </tr>\n",
              "    <tr>\n",
              "      <th>15</th>\n",
              "      <td>1</td>\n",
              "      <td>00</td>\n",
              "    </tr>\n",
              "    <tr>\n",
              "      <th>21</th>\n",
              "      <td>1</td>\n",
              "      <td>00</td>\n",
              "    </tr>\n",
              "    <tr>\n",
              "      <th>36</th>\n",
              "      <td>1</td>\n",
              "      <td>00</td>\n",
              "    </tr>\n",
              "    <tr>\n",
              "      <th>37</th>\n",
              "      <td>1</td>\n",
              "      <td>00</td>\n",
              "    </tr>\n",
              "  </tbody>\n",
              "</table>\n",
              "</div>"
            ],
            "text/plain": [
              "    click hour\n",
              "0       1   00\n",
              "15      1   00\n",
              "21      1   00\n",
              "36      1   00\n",
              "37      1   00"
            ]
          },
          "execution_count": 17,
          "metadata": {},
          "output_type": "execute_result"
        }
      ],
      "source": [
        "hours = dateinfo[[\"click\", \"hour\"]].loc[dateinfo.click == 1]\n",
        "hours.head()"
      ]
    },
    {
      "cell_type": "code",
      "execution_count": null,
      "id": "d9780643",
      "metadata": {
        "id": "d9780643",
        "outputId": "b323ecc8-b83a-41d8-d657-fc4c3e07edac"
      },
      "outputs": [
        {
          "data": {
            "image/png": "[encoded data removed]",
            "text/plain": [
              "<Figure size 504x360 with 1 Axes>"
            ]
          },
          "metadata": {
            "needs_background": "light"
          },
          "output_type": "display_data"
        }
      ],
      "source": [
        "from matplotlib import pyplot as plt\n",
        "\n",
        "fig,ax = plt.subplots(figsize=(7,5))\n",
        "plt.title('User activity in different hours')\n",
        "plt.xlabel('Hours')\n",
        "\n",
        "hourly_activity = hours['hour'].value_counts()\n",
        "hourly_activity = pd.DataFrame(hourly_activity).sort_index()\n",
        "\n",
        "\n",
        "hourly_activity['hour'].plot(kind='bar', legend = False)\n",
        "\n",
        "plt.show()"
      ]
    },
    {
      "cell_type": "markdown",
      "id": "485e0d72",
      "metadata": {
        "id": "485e0d72"
      },
      "source": [
        "###### Hours between 4 a.m. and 6 p.m where the most active once, when the most adds were displayed. This activity reachs its peak at 1 p.m"
      ]
    },
    {
      "cell_type": "code",
      "execution_count": null,
      "id": "90231389",
      "metadata": {
        "id": "90231389",
        "outputId": "d0bb7505-f497-4f25-bdb4-0479486b7835"
      },
      "outputs": [
        {
          "data": {
            "image/png": "[encoded data removed]",
            "text/plain": [
              "<Figure size 504x360 with 1 Axes>"
            ]
          },
          "metadata": {
            "needs_background": "light"
          },
          "output_type": "display_data"
        }
      ],
      "source": [
        "fig,ax = plt.subplots(figsize=(7,5))\n",
        "plt.title('Hourly CTR')\n",
        "\n",
        "hours_ctr = hours['hour'].value_counts() / dateinfo[\"hour\"].value_counts()\n",
        "\n",
        "hours_ctr.plot(kind= 'bar')\n",
        "plt.show()"
      ]
    },
    {
      "cell_type": "markdown",
      "id": "5f17a2ab",
      "metadata": {
        "id": "5f17a2ab"
      },
      "source": [
        "###### Even tough most adds were diplayed at 1 p.m, this wasn't the time where CTR was the highest. Suprisingly,  users clicked on a displayed to them add most frequently at 1 a.m"
      ]
    },
    {
      "cell_type": "markdown",
      "id": "ce054e6d",
      "metadata": {
        "id": "ce054e6d"
      },
      "source": [
        "### Weekday activity and CTR overview\n",
        "##### Prepering the data"
      ]
    },
    {
      "cell_type": "code",
      "execution_count": null,
      "id": "8b4c8449",
      "metadata": {
        "id": "8b4c8449",
        "outputId": "c3c4d0c5-e66d-40a5-8d58-50ecd303f299"
      },
      "outputs": [
        {
          "data": {
            "text/html": [
              "<div>\n",
              "<style scoped>\n",
              "    .dataframe tbody tr th:only-of-type {\n",
              "        vertical-align: middle;\n",
              "    }\n",
              "\n",
              "    .dataframe tbody tr th {\n",
              "        vertical-align: top;\n",
              "    }\n",
              "\n",
              "    .dataframe thead th {\n",
              "        text-align: right;\n",
              "    }\n",
              "</style>\n",
              "<table border=\"1\" class=\"dataframe\">\n",
              "  <thead>\n",
              "    <tr style=\"text-align: right;\">\n",
              "      <th></th>\n",
              "      <th>click</th>\n",
              "      <th>hour</th>\n",
              "      <th>year</th>\n",
              "      <th>month</th>\n",
              "      <th>day</th>\n",
              "      <th>date</th>\n",
              "      <th>weekday</th>\n",
              "    </tr>\n",
              "  </thead>\n",
              "  <tbody>\n",
              "    <tr>\n",
              "      <th>0</th>\n",
              "      <td>1</td>\n",
              "      <td>00</td>\n",
              "      <td>2014</td>\n",
              "      <td>10</td>\n",
              "      <td>21</td>\n",
              "      <td>2014-10-21</td>\n",
              "      <td>Tuesday</td>\n",
              "    </tr>\n",
              "    <tr>\n",
              "      <th>1</th>\n",
              "      <td>0</td>\n",
              "      <td>00</td>\n",
              "      <td>2014</td>\n",
              "      <td>10</td>\n",
              "      <td>21</td>\n",
              "      <td>2014-10-21</td>\n",
              "      <td>Tuesday</td>\n",
              "    </tr>\n",
              "    <tr>\n",
              "      <th>2</th>\n",
              "      <td>0</td>\n",
              "      <td>00</td>\n",
              "      <td>2014</td>\n",
              "      <td>10</td>\n",
              "      <td>21</td>\n",
              "      <td>2014-10-21</td>\n",
              "      <td>Tuesday</td>\n",
              "    </tr>\n",
              "    <tr>\n",
              "      <th>3</th>\n",
              "      <td>0</td>\n",
              "      <td>00</td>\n",
              "      <td>2014</td>\n",
              "      <td>10</td>\n",
              "      <td>21</td>\n",
              "      <td>2014-10-21</td>\n",
              "      <td>Tuesday</td>\n",
              "    </tr>\n",
              "    <tr>\n",
              "      <th>4</th>\n",
              "      <td>0</td>\n",
              "      <td>00</td>\n",
              "      <td>2014</td>\n",
              "      <td>10</td>\n",
              "      <td>21</td>\n",
              "      <td>2014-10-21</td>\n",
              "      <td>Tuesday</td>\n",
              "    </tr>\n",
              "  </tbody>\n",
              "</table>\n",
              "</div>"
            ],
            "text/plain": [
              "   click hour  year month day       date  weekday\n",
              "0      1   00  2014    10  21 2014-10-21  Tuesday\n",
              "1      0   00  2014    10  21 2014-10-21  Tuesday\n",
              "2      0   00  2014    10  21 2014-10-21  Tuesday\n",
              "3      0   00  2014    10  21 2014-10-21  Tuesday\n",
              "4      0   00  2014    10  21 2014-10-21  Tuesday"
            ]
          },
          "execution_count": 20,
          "metadata": {},
          "output_type": "execute_result"
        }
      ],
      "source": [
        "dateinfo = dateinfo.astype({'day' : 'str'})\n",
        "dateinfo[\"year\"] = \"20\" + dateinfo[\"year\"]\n",
        "dateinfo[\"date\"] = pd.to_datetime(dateinfo[\"year\"] + \"-\" + dateinfo[\"month\"] + \"-\" + dateinfo[\"day\"])\n",
        "dateinfo[\"weekday\"] = dateinfo[\"date\"].dt.day_name()\n",
        "dateinfo.head()"
      ]
    },
    {
      "cell_type": "code",
      "execution_count": null,
      "id": "bc664602",
      "metadata": {
        "id": "bc664602",
        "outputId": "b437d596-4fba-43a8-9efa-1a5483c10b5d"
      },
      "outputs": [
        {
          "data": {
            "text/html": [
              "<div>\n",
              "<style scoped>\n",
              "    .dataframe tbody tr th:only-of-type {\n",
              "        vertical-align: middle;\n",
              "    }\n",
              "\n",
              "    .dataframe tbody tr th {\n",
              "        vertical-align: top;\n",
              "    }\n",
              "\n",
              "    .dataframe thead th {\n",
              "        text-align: right;\n",
              "    }\n",
              "</style>\n",
              "<table border=\"1\" class=\"dataframe\">\n",
              "  <thead>\n",
              "    <tr style=\"text-align: right;\">\n",
              "      <th></th>\n",
              "      <th>click</th>\n",
              "      <th>hour</th>\n",
              "      <th>year</th>\n",
              "      <th>month</th>\n",
              "      <th>day</th>\n",
              "      <th>date</th>\n",
              "      <th>weekday</th>\n",
              "    </tr>\n",
              "  </thead>\n",
              "  <tbody>\n",
              "    <tr>\n",
              "      <th>0</th>\n",
              "      <td>1</td>\n",
              "      <td>00</td>\n",
              "      <td>2014</td>\n",
              "      <td>10</td>\n",
              "      <td>21</td>\n",
              "      <td>2014-10-21</td>\n",
              "      <td>Tuesday</td>\n",
              "    </tr>\n",
              "    <tr>\n",
              "      <th>1</th>\n",
              "      <td>0</td>\n",
              "      <td>00</td>\n",
              "      <td>2014</td>\n",
              "      <td>10</td>\n",
              "      <td>21</td>\n",
              "      <td>2014-10-21</td>\n",
              "      <td>Tuesday</td>\n",
              "    </tr>\n",
              "    <tr>\n",
              "      <th>2</th>\n",
              "      <td>0</td>\n",
              "      <td>00</td>\n",
              "      <td>2014</td>\n",
              "      <td>10</td>\n",
              "      <td>21</td>\n",
              "      <td>2014-10-21</td>\n",
              "      <td>Tuesday</td>\n",
              "    </tr>\n",
              "    <tr>\n",
              "      <th>3</th>\n",
              "      <td>0</td>\n",
              "      <td>00</td>\n",
              "      <td>2014</td>\n",
              "      <td>10</td>\n",
              "      <td>21</td>\n",
              "      <td>2014-10-21</td>\n",
              "      <td>Tuesday</td>\n",
              "    </tr>\n",
              "    <tr>\n",
              "      <th>4</th>\n",
              "      <td>0</td>\n",
              "      <td>00</td>\n",
              "      <td>2014</td>\n",
              "      <td>10</td>\n",
              "      <td>21</td>\n",
              "      <td>2014-10-21</td>\n",
              "      <td>Tuesday</td>\n",
              "    </tr>\n",
              "    <tr>\n",
              "      <th>...</th>\n",
              "      <td>...</td>\n",
              "      <td>...</td>\n",
              "      <td>...</td>\n",
              "      <td>...</td>\n",
              "      <td>...</td>\n",
              "      <td>...</td>\n",
              "      <td>...</td>\n",
              "    </tr>\n",
              "    <tr>\n",
              "      <th>999995</th>\n",
              "      <td>0</td>\n",
              "      <td>23</td>\n",
              "      <td>2014</td>\n",
              "      <td>10</td>\n",
              "      <td>30</td>\n",
              "      <td>2014-10-30</td>\n",
              "      <td>Thursday</td>\n",
              "    </tr>\n",
              "    <tr>\n",
              "      <th>999996</th>\n",
              "      <td>0</td>\n",
              "      <td>23</td>\n",
              "      <td>2014</td>\n",
              "      <td>10</td>\n",
              "      <td>30</td>\n",
              "      <td>2014-10-30</td>\n",
              "      <td>Thursday</td>\n",
              "    </tr>\n",
              "    <tr>\n",
              "      <th>999997</th>\n",
              "      <td>0</td>\n",
              "      <td>23</td>\n",
              "      <td>2014</td>\n",
              "      <td>10</td>\n",
              "      <td>30</td>\n",
              "      <td>2014-10-30</td>\n",
              "      <td>Thursday</td>\n",
              "    </tr>\n",
              "    <tr>\n",
              "      <th>999998</th>\n",
              "      <td>0</td>\n",
              "      <td>23</td>\n",
              "      <td>2014</td>\n",
              "      <td>10</td>\n",
              "      <td>30</td>\n",
              "      <td>2014-10-30</td>\n",
              "      <td>Thursday</td>\n",
              "    </tr>\n",
              "    <tr>\n",
              "      <th>999999</th>\n",
              "      <td>0</td>\n",
              "      <td>23</td>\n",
              "      <td>2014</td>\n",
              "      <td>10</td>\n",
              "      <td>30</td>\n",
              "      <td>2014-10-30</td>\n",
              "      <td>Thursday</td>\n",
              "    </tr>\n",
              "  </tbody>\n",
              "</table>\n",
              "<p>1000000 rows × 7 columns</p>\n",
              "</div>"
            ],
            "text/plain": [
              "        click hour  year month day       date   weekday\n",
              "0           1   00  2014    10  21 2014-10-21   Tuesday\n",
              "1           0   00  2014    10  21 2014-10-21   Tuesday\n",
              "2           0   00  2014    10  21 2014-10-21   Tuesday\n",
              "3           0   00  2014    10  21 2014-10-21   Tuesday\n",
              "4           0   00  2014    10  21 2014-10-21   Tuesday\n",
              "...       ...  ...   ...   ...  ..        ...       ...\n",
              "999995      0   23  2014    10  30 2014-10-30  Thursday\n",
              "999996      0   23  2014    10  30 2014-10-30  Thursday\n",
              "999997      0   23  2014    10  30 2014-10-30  Thursday\n",
              "999998      0   23  2014    10  30 2014-10-30  Thursday\n",
              "999999      0   23  2014    10  30 2014-10-30  Thursday\n",
              "\n",
              "[1000000 rows x 7 columns]"
            ]
          },
          "execution_count": 21,
          "metadata": {},
          "output_type": "execute_result"
        }
      ],
      "source": [
        "dateinfo.head(1000000)"
      ]
    },
    {
      "cell_type": "markdown",
      "id": "9a424e46",
      "metadata": {
        "id": "9a424e46"
      },
      "source": [
        "##### Limiting the data only to 7 days intead of 9 to give a more accurate comparison of weekdays (we do not risk stabilizing the ctr more for weekdays that would occur twice)"
      ]
    },
    {
      "cell_type": "code",
      "execution_count": null,
      "id": "48fb5c29",
      "metadata": {
        "id": "48fb5c29",
        "outputId": "ea46f3e0-4e63-486f-d6bb-2c0b490063e3"
      },
      "outputs": [
        {
          "data": {
            "text/html": [
              "<div>\n",
              "<style scoped>\n",
              "    .dataframe tbody tr th:only-of-type {\n",
              "        vertical-align: middle;\n",
              "    }\n",
              "\n",
              "    .dataframe tbody tr th {\n",
              "        vertical-align: top;\n",
              "    }\n",
              "\n",
              "    .dataframe thead th {\n",
              "        text-align: right;\n",
              "    }\n",
              "</style>\n",
              "<table border=\"1\" class=\"dataframe\">\n",
              "  <thead>\n",
              "    <tr style=\"text-align: right;\">\n",
              "      <th></th>\n",
              "      <th>click</th>\n",
              "      <th>weekday</th>\n",
              "      <th>day</th>\n",
              "    </tr>\n",
              "  </thead>\n",
              "  <tbody>\n",
              "    <tr>\n",
              "      <th>669953</th>\n",
              "      <td>1</td>\n",
              "      <td>Monday</td>\n",
              "      <td>27</td>\n",
              "    </tr>\n",
              "    <tr>\n",
              "      <th>669954</th>\n",
              "      <td>0</td>\n",
              "      <td>Monday</td>\n",
              "      <td>27</td>\n",
              "    </tr>\n",
              "    <tr>\n",
              "      <th>669955</th>\n",
              "      <td>0</td>\n",
              "      <td>Monday</td>\n",
              "      <td>27</td>\n",
              "    </tr>\n",
              "    <tr>\n",
              "      <th>669956</th>\n",
              "      <td>0</td>\n",
              "      <td>Monday</td>\n",
              "      <td>27</td>\n",
              "    </tr>\n",
              "    <tr>\n",
              "      <th>669957</th>\n",
              "      <td>0</td>\n",
              "      <td>Monday</td>\n",
              "      <td>27</td>\n",
              "    </tr>\n",
              "    <tr>\n",
              "      <th>669958</th>\n",
              "      <td>0</td>\n",
              "      <td>Monday</td>\n",
              "      <td>27</td>\n",
              "    </tr>\n",
              "    <tr>\n",
              "      <th>669959</th>\n",
              "      <td>0</td>\n",
              "      <td>Monday</td>\n",
              "      <td>27</td>\n",
              "    </tr>\n",
              "    <tr>\n",
              "      <th>669960</th>\n",
              "      <td>0</td>\n",
              "      <td>Monday</td>\n",
              "      <td>27</td>\n",
              "    </tr>\n",
              "    <tr>\n",
              "      <th>669961</th>\n",
              "      <td>0</td>\n",
              "      <td>Monday</td>\n",
              "      <td>27</td>\n",
              "    </tr>\n",
              "    <tr>\n",
              "      <th>669962</th>\n",
              "      <td>0</td>\n",
              "      <td>Monday</td>\n",
              "      <td>27</td>\n",
              "    </tr>\n",
              "    <tr>\n",
              "      <th>669963</th>\n",
              "      <td>0</td>\n",
              "      <td>Monday</td>\n",
              "      <td>27</td>\n",
              "    </tr>\n",
              "    <tr>\n",
              "      <th>669964</th>\n",
              "      <td>0</td>\n",
              "      <td>Monday</td>\n",
              "      <td>27</td>\n",
              "    </tr>\n",
              "    <tr>\n",
              "      <th>669965</th>\n",
              "      <td>1</td>\n",
              "      <td>Monday</td>\n",
              "      <td>27</td>\n",
              "    </tr>\n",
              "    <tr>\n",
              "      <th>669966</th>\n",
              "      <td>0</td>\n",
              "      <td>Monday</td>\n",
              "      <td>27</td>\n",
              "    </tr>\n",
              "    <tr>\n",
              "      <th>669967</th>\n",
              "      <td>0</td>\n",
              "      <td>Monday</td>\n",
              "      <td>27</td>\n",
              "    </tr>\n",
              "  </tbody>\n",
              "</table>\n",
              "</div>"
            ],
            "text/plain": [
              "        click weekday  day\n",
              "669953      1  Monday   27\n",
              "669954      0  Monday   27\n",
              "669955      0  Monday   27\n",
              "669956      0  Monday   27\n",
              "669957      0  Monday   27\n",
              "669958      0  Monday   27\n",
              "669959      0  Monday   27\n",
              "669960      0  Monday   27\n",
              "669961      0  Monday   27\n",
              "669962      0  Monday   27\n",
              "669963      0  Monday   27\n",
              "669964      0  Monday   27\n",
              "669965      1  Monday   27\n",
              "669966      0  Monday   27\n",
              "669967      0  Monday   27"
            ]
          },
          "execution_count": 22,
          "metadata": {},
          "output_type": "execute_result"
        }
      ],
      "source": [
        "dateinfo = dateinfo.astype({'day' : 'int32'})\n",
        "weekdays = dateinfo[[\"click\", \"weekday\", \"day\"]].loc[dateinfo.day <= 27]\n",
        "weekdays.tail(15)"
      ]
    },
    {
      "cell_type": "code",
      "execution_count": null,
      "id": "73277c02",
      "metadata": {
        "id": "73277c02",
        "outputId": "9aa72e4a-c6de-41c5-849f-569b9150c0c9"
      },
      "outputs": [
        {
          "data": {
            "image/png": "[encoded data removed]",
            "text/plain": [
              "<Figure size 504x504 with 1 Axes>"
            ]
          },
          "metadata": {},
          "output_type": "display_data"
        }
      ],
      "source": [
        "fig,ax = plt.subplots(figsize=(7,7))\n",
        "plt.title('Clicks quantity on a given weekday')\n",
        "plt.xlabel('weekdays')\n",
        "weekdays['weekday'].loc[weekdays.click == 1].value_counts().plot(kind='pie', autopct='%1.1f%%', explode = (0.1,0,0,0,0,0,0))\n",
        "\n",
        "plt.show()"
      ]
    },
    {
      "cell_type": "markdown",
      "id": "e56584fa",
      "metadata": {
        "id": "e56584fa"
      },
      "source": [
        "##### Biggest user activity was recorded on Wednesdays, most adds were displayed on that day"
      ]
    },
    {
      "cell_type": "code",
      "execution_count": null,
      "id": "0aec0886",
      "metadata": {
        "id": "0aec0886"
      },
      "outputs": [],
      "source": [
        "active_weekdays = weekdays.loc[weekdays[\"click\"] == 1]"
      ]
    },
    {
      "cell_type": "code",
      "execution_count": null,
      "id": "0c822770",
      "metadata": {
        "id": "0c822770",
        "outputId": "e47f7fd2-256e-48f9-8720-4dec3c40b7a2"
      },
      "outputs": [
        {
          "name": "stdout",
          "output_type": "stream",
          "text": [
            "Friday       0.173547\n",
            "Monday       0.181502\n",
            "Saturday     0.180713\n",
            "Sunday       0.184487\n",
            "Thursday     0.181738\n",
            "Tuesday      0.173179\n",
            "Wednesday    0.157555\n",
            "Name: weekday, dtype: float64\n"
          ]
        }
      ],
      "source": [
        "weekdays_ctr = active_weekdays[\"weekday\"].value_counts() / weekdays['weekday'].value_counts()\n",
        "print(weekdays_ctr)"
      ]
    },
    {
      "cell_type": "code",
      "execution_count": null,
      "id": "97807bef",
      "metadata": {
        "id": "97807bef",
        "outputId": "5d2b8403-0c9a-440a-f22e-8378e352a1fd"
      },
      "outputs": [
        {
          "data": {
            "image/png": "[encoded data removed]",
            "text/plain": [
              "<Figure size 504x360 with 1 Axes>"
            ]
          },
          "metadata": {
            "needs_background": "light"
          },
          "output_type": "display_data"
        }
      ],
      "source": [
        "fig,ax = plt.subplots(figsize=(7,5))\n",
        "plt.title('CTR on different weekdays')\n",
        "plt.xlabel('weekdays')\n",
        "#weekdays_ctr.plot(kind='pie',legend = False,autopct='%1.1f%%', labeldistance = 1.05, startangle=90, explode = (0,0,0,0.1,0,0,0))\n",
        "weekdays_ctr.plot(kind='barh', color = 'g')\n",
        "plt.show()"
      ]
    },
    {
      "cell_type": "markdown",
      "id": "cfb84d83",
      "metadata": {
        "id": "cfb84d83"
      },
      "source": [
        "######  Sundays and Thursdays were the days that had the highest CTR, adds were clicked on with the biggest frequency then"
      ]
    },
    {
      "cell_type": "markdown",
      "id": "7afff2c6",
      "metadata": {
        "id": "7afff2c6"
      },
      "source": [
        "### Provided device information"
      ]
    },
    {
      "cell_type": "code",
      "execution_count": null,
      "id": "ddb39491",
      "metadata": {
        "id": "ddb39491",
        "outputId": "3f3ada12-2c8f-4e31-af22-a75b0dfbf21a"
      },
      "outputs": [
        {
          "data": {
            "text/html": [
              "<div>\n",
              "<style scoped>\n",
              "    .dataframe tbody tr th:only-of-type {\n",
              "        vertical-align: middle;\n",
              "    }\n",
              "\n",
              "    .dataframe tbody tr th {\n",
              "        vertical-align: top;\n",
              "    }\n",
              "\n",
              "    .dataframe thead th {\n",
              "        text-align: right;\n",
              "    }\n",
              "</style>\n",
              "<table border=\"1\" class=\"dataframe\">\n",
              "  <thead>\n",
              "    <tr style=\"text-align: right;\">\n",
              "      <th></th>\n",
              "      <th>device_id</th>\n",
              "      <th>device_ip</th>\n",
              "      <th>device_model</th>\n",
              "    </tr>\n",
              "  </thead>\n",
              "  <tbody>\n",
              "    <tr>\n",
              "      <th>count</th>\n",
              "      <td>1000000</td>\n",
              "      <td>1000000</td>\n",
              "      <td>1000000</td>\n",
              "    </tr>\n",
              "    <tr>\n",
              "      <th>unique</th>\n",
              "      <td>149744</td>\n",
              "      <td>555360</td>\n",
              "      <td>5146</td>\n",
              "    </tr>\n",
              "    <tr>\n",
              "      <th>top</th>\n",
              "      <td>a99f214a</td>\n",
              "      <td>6b9769f2</td>\n",
              "      <td>8a4875bd</td>\n",
              "    </tr>\n",
              "    <tr>\n",
              "      <th>freq</th>\n",
              "      <td>825621</td>\n",
              "      <td>5240</td>\n",
              "      <td>60662</td>\n",
              "    </tr>\n",
              "  </tbody>\n",
              "</table>\n",
              "</div>"
            ],
            "text/plain": [
              "       device_id device_ip device_model\n",
              "count    1000000   1000000      1000000\n",
              "unique    149744    555360         5146\n",
              "top     a99f214a  6b9769f2     8a4875bd\n",
              "freq      825621      5240        60662"
            ]
          },
          "execution_count": 27,
          "metadata": {},
          "output_type": "execute_result"
        }
      ],
      "source": [
        "train[[\"device_id\", \"device_ip\", \"device_model\"]].describe()"
      ]
    },
    {
      "cell_type": "code",
      "execution_count": null,
      "id": "e1c33d1d",
      "metadata": {
        "id": "e1c33d1d",
        "outputId": "3173170f-4ee8-4ee5-f542-3b1cd64947cc"
      },
      "outputs": [
        {
          "data": {
            "text/plain": [
              "1    923130\n",
              "0     54522\n",
              "4     19179\n",
              "5      3169\n",
              "Name: device_type, dtype: int64"
            ]
          },
          "execution_count": 28,
          "metadata": {},
          "output_type": "execute_result"
        }
      ],
      "source": [
        "train[\"device_type\"].value_counts()"
      ]
    },
    {
      "cell_type": "code",
      "execution_count": null,
      "id": "0348a686",
      "metadata": {
        "id": "0348a686",
        "outputId": "8bee1cb8-0402-4896-f3b9-1efb25113796"
      },
      "outputs": [
        {
          "data": {
            "text/plain": [
              "0    862705\n",
              "2     82124\n",
              "3     54123\n",
              "5      1048\n",
              "Name: device_conn_type, dtype: int64"
            ]
          },
          "execution_count": 29,
          "metadata": {},
          "output_type": "execute_result"
        }
      ],
      "source": [
        "train[\"device_conn_type\"].value_counts()"
      ]
    },
    {
      "cell_type": "markdown",
      "id": "749bcbda",
      "metadata": {
        "id": "749bcbda"
      },
      "source": [
        "### Provided site information"
      ]
    },
    {
      "cell_type": "code",
      "execution_count": null,
      "id": "3de1a21d",
      "metadata": {
        "scrolled": true,
        "id": "3de1a21d",
        "outputId": "e34dd0b8-a387-4279-cb83-27e68628689c"
      },
      "outputs": [
        {
          "data": {
            "text/plain": [
              "2668"
            ]
          },
          "execution_count": 30,
          "metadata": {},
          "output_type": "execute_result"
        }
      ],
      "source": [
        "len(train[\"site_id\"].unique())"
      ]
    },
    {
      "cell_type": "code",
      "execution_count": null,
      "id": "ad93167e",
      "metadata": {
        "id": "ad93167e",
        "outputId": "f08cee80-566c-4248-b6ee-30052e0921e1"
      },
      "outputs": [
        {
          "data": {
            "text/plain": [
              "50e219e0    408096\n",
              "f028772b    313728\n",
              "28905ebd    182533\n",
              "3e814130     75819\n",
              "f66779e6      6276\n",
              "Name: site_category, dtype: int64"
            ]
          },
          "execution_count": 31,
          "metadata": {},
          "output_type": "execute_result"
        }
      ],
      "source": [
        "train[\"site_category\"].value_counts().head()"
      ]
    },
    {
      "cell_type": "code",
      "execution_count": null,
      "id": "d215524d",
      "metadata": {
        "id": "d215524d",
        "outputId": "8589b427-ef4e-4420-c049-24e319069e9d"
      },
      "outputs": [
        {
          "data": {
            "text/plain": [
              "c4e18dd6    373678\n",
              "f3845767    160737\n",
              "7e091613     82927\n",
              "7687a86e     31997\n",
              "98572c79     24446\n",
              "Name: site_domain, dtype: int64"
            ]
          },
          "execution_count": 32,
          "metadata": {},
          "output_type": "execute_result"
        }
      ],
      "source": [
        "train[\"site_domain\"].value_counts().head()"
      ]
    },
    {
      "cell_type": "markdown",
      "id": "6323f612",
      "metadata": {
        "id": "6323f612"
      },
      "source": [
        "### Banner position overview"
      ]
    },
    {
      "cell_type": "code",
      "execution_count": null,
      "id": "5947dd54",
      "metadata": {
        "id": "5947dd54",
        "outputId": "34efe62d-812f-44ae-940e-ba0f8cca7c4f"
      },
      "outputs": [
        {
          "data": {
            "text/plain": [
              "0    719431\n",
              "1    278796\n",
              "7      1046\n",
              "2       329\n",
              "4       201\n",
              "5       150\n",
              "3        47\n",
              "Name: banner_pos, dtype: int64"
            ]
          },
          "execution_count": 33,
          "metadata": {},
          "output_type": "execute_result"
        }
      ],
      "source": [
        "train[\"banner_pos\"].value_counts()"
      ]
    },
    {
      "cell_type": "code",
      "execution_count": null,
      "id": "7f696073",
      "metadata": {
        "id": "7f696073",
        "outputId": "69fb47fb-0359-4af9-b443-55ff68fe5226"
      },
      "outputs": [
        {
          "data": {
            "image/png": "[encoded data removed]",
            "text/plain": [
              "<Figure size 360x216 with 1 Axes>"
            ]
          },
          "metadata": {
            "needs_background": "light"
          },
          "output_type": "display_data"
        },
        {
          "data": {
            "image/png": "[encoded data removed]",
            "text/plain": [
              "<Figure size 360x216 with 1 Axes>"
            ]
          },
          "metadata": {
            "needs_background": "light"
          },
          "output_type": "display_data"
        }
      ],
      "source": [
        "train.groupby(['banner_pos','click']).size().unstack().iloc[0:2:].plot(kind='bar', figsize = (5,3))\n",
        "train.groupby(['banner_pos','click']).size().unstack().iloc[2:,:].plot(kind='bar', legend = False, figsize = (5,3))\n",
        "\n",
        "plt.show()"
      ]
    },
    {
      "cell_type": "code",
      "execution_count": null,
      "id": "32ef37cb",
      "metadata": {
        "scrolled": true,
        "id": "32ef37cb",
        "outputId": "b269e6f4-3974-4834-adc3-d62fbb9327c9"
      },
      "outputs": [
        {
          "data": {
            "image/png": "[encoded data removed]",
            "text/plain": [
              "<Figure size 504x360 with 1 Axes>"
            ]
          },
          "metadata": {
            "needs_background": "light"
          },
          "output_type": "display_data"
        }
      ],
      "source": [
        "fig,ax = plt.subplots(figsize=(7,5))\n",
        "plt.title('CTR for different banner positions')\n",
        "plt.xlabel('Banner positions')\n",
        "bannerPosition = train[\"banner_pos\"].loc[train.click == 1].value_counts()/train[\"banner_pos\"].value_counts()\n",
        "#bannerPosition = pd.DataFrame(bannerPosition)\n",
        "bannerPosition.plot(kind = \"bar\", legend = False)\n",
        "\n",
        "plt.show()"
      ]
    },
    {
      "cell_type": "markdown",
      "id": "b50eaabf",
      "metadata": {
        "id": "b50eaabf"
      },
      "source": [
        "### Provided app information"
      ]
    },
    {
      "cell_type": "code",
      "execution_count": null,
      "id": "45d0bcb0",
      "metadata": {
        "id": "45d0bcb0",
        "outputId": "aface3da-0c66-48f8-ba73-71c1d7d0515b"
      },
      "outputs": [
        {
          "data": {
            "text/html": [
              "<div>\n",
              "<style scoped>\n",
              "    .dataframe tbody tr th:only-of-type {\n",
              "        vertical-align: middle;\n",
              "    }\n",
              "\n",
              "    .dataframe tbody tr th {\n",
              "        vertical-align: top;\n",
              "    }\n",
              "\n",
              "    .dataframe thead th {\n",
              "        text-align: right;\n",
              "    }\n",
              "</style>\n",
              "<table border=\"1\" class=\"dataframe\">\n",
              "  <thead>\n",
              "    <tr style=\"text-align: right;\">\n",
              "      <th></th>\n",
              "      <th>app_id</th>\n",
              "      <th>app_domain</th>\n",
              "      <th>app_category</th>\n",
              "    </tr>\n",
              "  </thead>\n",
              "  <tbody>\n",
              "    <tr>\n",
              "      <th>count</th>\n",
              "      <td>1000000</td>\n",
              "      <td>1000000</td>\n",
              "      <td>1000000</td>\n",
              "    </tr>\n",
              "    <tr>\n",
              "      <th>unique</th>\n",
              "      <td>3122</td>\n",
              "      <td>189</td>\n",
              "      <td>28</td>\n",
              "    </tr>\n",
              "    <tr>\n",
              "      <th>top</th>\n",
              "      <td>ecad2386</td>\n",
              "      <td>7801e8d9</td>\n",
              "      <td>07d7df22</td>\n",
              "    </tr>\n",
              "    <tr>\n",
              "      <th>freq</th>\n",
              "      <td>639568</td>\n",
              "      <td>674245</td>\n",
              "      <td>647696</td>\n",
              "    </tr>\n",
              "  </tbody>\n",
              "</table>\n",
              "</div>"
            ],
            "text/plain": [
              "          app_id app_domain app_category\n",
              "count    1000000    1000000      1000000\n",
              "unique      3122        189           28\n",
              "top     ecad2386   7801e8d9     07d7df22\n",
              "freq      639568     674245       647696"
            ]
          },
          "execution_count": 36,
          "metadata": {},
          "output_type": "execute_result"
        }
      ],
      "source": [
        "train[[\"app_id\", \"app_domain\", \"app_category\"]].describe()"
      ]
    },
    {
      "cell_type": "markdown",
      "id": "2732e371",
      "metadata": {
        "id": "2732e371"
      },
      "source": [
        "TODO:\n",
        "    - wybranie odpowiednich parametrów do predykcji\n",
        "    - predykcja wspołczynnika CTR klasyfikacją oraz metodą alteratywną "
      ]
    },
    {
      "cell_type": "markdown",
      "id": "851eb26e",
      "metadata": {
        "id": "851eb26e"
      },
      "source": [
        "### Choosing adequate parameters for prediction \n"
      ]
    },
    {
      "cell_type": "code",
      "execution_count": null,
      "id": "6c03246c",
      "metadata": {
        "id": "6c03246c",
        "outputId": "d90781e1-db26-4a85-a98b-5963b587a122"
      },
      "outputs": [
        {
          "name": "stdout",
          "output_type": "stream",
          "text": [
            "Requirement already satisfied: seaborn in c:\\users\\izkab\\appdata\\local\\programs\\python\\python310\\lib\\site-packages (0.11.2)\n",
            "Requirement already satisfied: matplotlib>=2.2 in c:\\users\\izkab\\appdata\\local\\programs\\python\\python310\\lib\\site-packages (from seaborn) (3.5.1)\n",
            "Requirement already satisfied: numpy>=1.15 in c:\\users\\izkab\\appdata\\local\\programs\\python\\python310\\lib\\site-packages (from seaborn) (1.21.5)\n",
            "Requirement already satisfied: scipy>=1.0 in c:\\users\\izkab\\appdata\\local\\programs\\python\\python310\\lib\\site-packages (from seaborn) (1.7.3)\n",
            "Requirement already satisfied: pandas>=0.23 in c:\\users\\izkab\\appdata\\local\\programs\\python\\python310\\lib\\site-packages (from seaborn) (1.3.5)\n",
            "Requirement already satisfied: pillow>=6.2.0 in c:\\users\\izkab\\appdata\\local\\programs\\python\\python310\\lib\\site-packages (from matplotlib>=2.2->seaborn) (8.4.0)\n",
            "Requirement already satisfied: packaging>=20.0 in c:\\users\\izkab\\appdata\\local\\programs\\python\\python310\\lib\\site-packages (from matplotlib>=2.2->seaborn) (21.2)\n",
            "Requirement already satisfied: fonttools>=4.22.0 in c:\\users\\izkab\\appdata\\local\\programs\\python\\python310\\lib\\site-packages (from matplotlib>=2.2->seaborn) (4.28.5)\n",
            "Requirement already satisfied: kiwisolver>=1.0.1 in c:\\users\\izkab\\appdata\\local\\programs\\python\\python310\\lib\\site-packages (from matplotlib>=2.2->seaborn) (1.3.2)\n",
            "Requirement already satisfied: cycler>=0.10 in c:\\users\\izkab\\appdata\\local\\programs\\python\\python310\\lib\\site-packages (from matplotlib>=2.2->seaborn) (0.11.0)\n",
            "Requirement already satisfied: pyparsing>=2.2.1 in c:\\users\\izkab\\appdata\\local\\programs\\python\\python310\\lib\\site-packages (from matplotlib>=2.2->seaborn) (2.4.7)\n",
            "Requirement already satisfied: python-dateutil>=2.7 in c:\\users\\izkab\\appdata\\local\\programs\\python\\python310\\lib\\site-packages (from matplotlib>=2.2->seaborn) (2.8.2)\n",
            "Requirement already satisfied: pytz>=2017.3 in c:\\users\\izkab\\appdata\\local\\programs\\python\\python310\\lib\\site-packages (from pandas>=0.23->seaborn) (2021.3)\n",
            "Requirement already satisfied: six>=1.5 in c:\\users\\izkab\\appdata\\local\\programs\\python\\python310\\lib\\site-packages (from python-dateutil>=2.7->matplotlib>=2.2->seaborn) (1.16.0)\n",
            "Note: you may need to restart the kernel to use updated packages.\n"
          ]
        },
        {
          "name": "stderr",
          "output_type": "stream",
          "text": [
            "WARNING: You are using pip version 21.2.3; however, version 22.0.4 is available.\n",
            "You should consider upgrading via the 'C:\\Users\\izkab\\AppData\\Local\\Programs\\Python\\Python310\\python.exe -m pip install --upgrade pip' command.\n"
          ]
        }
      ],
      "source": [
        "pip install seaborn"
      ]
    },
    {
      "cell_type": "code",
      "execution_count": null,
      "id": "3346ee07",
      "metadata": {
        "id": "3346ee07"
      },
      "outputs": [],
      "source": [
        "import seaborn as sns"
      ]
    },
    {
      "cell_type": "code",
      "execution_count": null,
      "id": "d3a5e599",
      "metadata": {
        "id": "d3a5e599",
        "outputId": "f19039ba-8217-42b5-f184-b8ff1fed7e23"
      },
      "outputs": [
        {
          "name": "stdout",
          "output_type": "stream",
          "text": [
            "id                  uint64\n",
            "click                int64\n",
            "hour                 int64\n",
            "C1                   int64\n",
            "banner_pos           int64\n",
            "site_id             object\n",
            "site_domain         object\n",
            "site_category       object\n",
            "app_id              object\n",
            "app_domain          object\n",
            "app_category        object\n",
            "device_id           object\n",
            "device_ip           object\n",
            "device_model        object\n",
            "device_type          int64\n",
            "device_conn_type     int64\n",
            "C14                  int64\n",
            "C15                  int64\n",
            "C16                  int64\n",
            "C17                  int64\n",
            "C18                  int64\n",
            "C19                  int64\n",
            "C20                  int64\n",
            "C21                  int64\n",
            "dtype: object\n"
          ]
        }
      ],
      "source": [
        "print(train.dtypes)"
      ]
    },
    {
      "cell_type": "code",
      "execution_count": null,
      "id": "154120c7",
      "metadata": {
        "id": "154120c7"
      },
      "outputs": [],
      "source": [
        "object_cols = train.select_dtypes(['object']).columns.tolist()\n",
        "\n",
        "for col in object_cols:\n",
        "\ttrain[col] = train[col].apply(lambda x: hash(x))"
      ]
    },
    {
      "cell_type": "code",
      "execution_count": null,
      "id": "c639fee7",
      "metadata": {
        "id": "c639fee7",
        "outputId": "0c10574f-4eda-4b93-e5ab-1d1f2d7c742c"
      },
      "outputs": [
        {
          "data": {
            "text/plain": [
              "<AxesSubplot:>"
            ]
          },
          "execution_count": 72,
          "metadata": {},
          "output_type": "execute_result"
        },
        {
          "data": {
            "image/png": "[encoded data removed]",
            "text/plain": [
              "<Figure size 1440x720 with 2 Axes>"
            ]
          },
          "metadata": {
            "needs_background": "light"
          },
          "output_type": "display_data"
        }
      ],
      "source": [
        "ad_corr = train.corr(method = 'pearson')\n",
        "fig,ax = plt.subplots(figsize = (20,10))\n",
        "sns.heatmap(ad_corr,\n",
        "            xticklabels=ad_corr.columns,\n",
        "            yticklabels=ad_corr.columns,\n",
        "            cmap='RdBu_r',\n",
        "            annot=True,\n",
        "            linewidth=1,ax=ax)"
      ]
    },
    {
      "cell_type": "code",
      "execution_count": null,
      "id": "d842a872",
      "metadata": {
        "id": "d842a872"
      },
      "outputs": [],
      "source": [
        "train.drop('id',axis=1,inplace = True)"
      ]
    },
    {
      "cell_type": "code",
      "execution_count": null,
      "id": "89092420",
      "metadata": {
        "id": "89092420",
        "outputId": "bf55b289-3685-42a3-add4-15d8260db450"
      },
      "outputs": [
        {
          "name": "stdout",
          "output_type": "stream",
          "text": [
            "site_id            -0.100114\n",
            "app_category       -0.098779\n",
            "device_conn_type   -0.082506\n",
            "C21                -0.069819\n",
            "app_domain         -0.062784\n",
            "C14                -0.059458\n",
            "C20                -0.056450\n",
            "C17                -0.054908\n",
            "device_type        -0.037322\n",
            "C1                 -0.035886\n",
            "C15                -0.033039\n",
            "site_category      -0.020086\n",
            "device_model       -0.015416\n",
            "hour               -0.007785\n",
            "C19                -0.003693\n",
            "device_ip          -0.000063\n",
            "device_id           0.012641\n",
            "C18                 0.021966\n",
            "banner_pos          0.025158\n",
            "app_id              0.049757\n",
            "site_domain         0.104708\n",
            "C16                 0.130170\n",
            "click               1.000000\n",
            "Name: click, dtype: float64\n"
          ]
        }
      ],
      "source": [
        "print(ad_corr[\"click\"].sort_values())"
      ]
    },
    {
      "cell_type": "code",
      "execution_count": null,
      "id": "daf86b5d",
      "metadata": {
        "id": "daf86b5d",
        "outputId": "82790210-d459-47f5-fb2b-dddefd327123"
      },
      "outputs": [
        {
          "data": {
            "text/html": [
              "<div>\n",
              "<style scoped>\n",
              "    .dataframe tbody tr th:only-of-type {\n",
              "        vertical-align: middle;\n",
              "    }\n",
              "\n",
              "    .dataframe tbody tr th {\n",
              "        vertical-align: top;\n",
              "    }\n",
              "\n",
              "    .dataframe thead th {\n",
              "        text-align: right;\n",
              "    }\n",
              "</style>\n",
              "<table border=\"1\" class=\"dataframe\">\n",
              "  <thead>\n",
              "    <tr style=\"text-align: right;\">\n",
              "      <th></th>\n",
              "      <th>click</th>\n",
              "      <th>hour</th>\n",
              "      <th>C1</th>\n",
              "      <th>banner_pos</th>\n",
              "      <th>site_id</th>\n",
              "      <th>site_domain</th>\n",
              "      <th>site_category</th>\n",
              "      <th>app_id</th>\n",
              "      <th>app_domain</th>\n",
              "      <th>app_category</th>\n",
              "      <th>...</th>\n",
              "      <th>device_type</th>\n",
              "      <th>device_conn_type</th>\n",
              "      <th>C14</th>\n",
              "      <th>C15</th>\n",
              "      <th>C16</th>\n",
              "      <th>C17</th>\n",
              "      <th>C18</th>\n",
              "      <th>C19</th>\n",
              "      <th>C20</th>\n",
              "      <th>C21</th>\n",
              "    </tr>\n",
              "  </thead>\n",
              "  <tbody>\n",
              "    <tr>\n",
              "      <th>0</th>\n",
              "      <td>1</td>\n",
              "      <td>14102100</td>\n",
              "      <td>1002</td>\n",
              "      <td>0</td>\n",
              "      <td>5775126285266220427</td>\n",
              "      <td>-6342232362649856817</td>\n",
              "      <td>70941558938082641</td>\n",
              "      <td>2118615010478079586</td>\n",
              "      <td>-5350120886528339990</td>\n",
              "      <td>207772944492415760</td>\n",
              "      <td>...</td>\n",
              "      <td>0</td>\n",
              "      <td>0</td>\n",
              "      <td>21682</td>\n",
              "      <td>320</td>\n",
              "      <td>50</td>\n",
              "      <td>2496</td>\n",
              "      <td>3</td>\n",
              "      <td>167</td>\n",
              "      <td>100191</td>\n",
              "      <td>23</td>\n",
              "    </tr>\n",
              "    <tr>\n",
              "      <th>1</th>\n",
              "      <td>0</td>\n",
              "      <td>14102100</td>\n",
              "      <td>1005</td>\n",
              "      <td>0</td>\n",
              "      <td>7081425895117451670</td>\n",
              "      <td>-6342232362649856817</td>\n",
              "      <td>70941558938082641</td>\n",
              "      <td>7706718892903411547</td>\n",
              "      <td>-7530412296524296424</td>\n",
              "      <td>7705063818798278748</td>\n",
              "      <td>...</td>\n",
              "      <td>1</td>\n",
              "      <td>0</td>\n",
              "      <td>19743</td>\n",
              "      <td>320</td>\n",
              "      <td>50</td>\n",
              "      <td>2264</td>\n",
              "      <td>3</td>\n",
              "      <td>427</td>\n",
              "      <td>100000</td>\n",
              "      <td>61</td>\n",
              "    </tr>\n",
              "    <tr>\n",
              "      <th>2</th>\n",
              "      <td>0</td>\n",
              "      <td>14102100</td>\n",
              "      <td>1005</td>\n",
              "      <td>0</td>\n",
              "      <td>-5353476162244427074</td>\n",
              "      <td>3710178035007448784</td>\n",
              "      <td>-6435066881935304191</td>\n",
              "      <td>2118615010478079586</td>\n",
              "      <td>-5350120886528339990</td>\n",
              "      <td>207772944492415760</td>\n",
              "      <td>...</td>\n",
              "      <td>1</td>\n",
              "      <td>0</td>\n",
              "      <td>19016</td>\n",
              "      <td>300</td>\n",
              "      <td>250</td>\n",
              "      <td>2162</td>\n",
              "      <td>2</td>\n",
              "      <td>39</td>\n",
              "      <td>-1</td>\n",
              "      <td>33</td>\n",
              "    </tr>\n",
              "    <tr>\n",
              "      <th>3</th>\n",
              "      <td>0</td>\n",
              "      <td>14102100</td>\n",
              "      <td>1010</td>\n",
              "      <td>1</td>\n",
              "      <td>7081425895117451670</td>\n",
              "      <td>-6342232362649856817</td>\n",
              "      <td>70941558938082641</td>\n",
              "      <td>-6956137615761030439</td>\n",
              "      <td>-5350120886528339990</td>\n",
              "      <td>7705063818798278748</td>\n",
              "      <td>...</td>\n",
              "      <td>4</td>\n",
              "      <td>2</td>\n",
              "      <td>20352</td>\n",
              "      <td>320</td>\n",
              "      <td>50</td>\n",
              "      <td>2333</td>\n",
              "      <td>0</td>\n",
              "      <td>39</td>\n",
              "      <td>-1</td>\n",
              "      <td>157</td>\n",
              "    </tr>\n",
              "    <tr>\n",
              "      <th>4</th>\n",
              "      <td>0</td>\n",
              "      <td>14102100</td>\n",
              "      <td>1005</td>\n",
              "      <td>0</td>\n",
              "      <td>7081425895117451670</td>\n",
              "      <td>-6342232362649856817</td>\n",
              "      <td>70941558938082641</td>\n",
              "      <td>502735525082687332</td>\n",
              "      <td>-7576182283214150293</td>\n",
              "      <td>7705063818798278748</td>\n",
              "      <td>...</td>\n",
              "      <td>1</td>\n",
              "      <td>0</td>\n",
              "      <td>20980</td>\n",
              "      <td>320</td>\n",
              "      <td>50</td>\n",
              "      <td>2371</td>\n",
              "      <td>0</td>\n",
              "      <td>551</td>\n",
              "      <td>100215</td>\n",
              "      <td>46</td>\n",
              "    </tr>\n",
              "  </tbody>\n",
              "</table>\n",
              "<p>5 rows × 23 columns</p>\n",
              "</div>"
            ],
            "text/plain": [
              "   click      hour    C1  banner_pos              site_id  \\\n",
              "0      1  14102100  1002           0  5775126285266220427   \n",
              "1      0  14102100  1005           0  7081425895117451670   \n",
              "2      0  14102100  1005           0 -5353476162244427074   \n",
              "3      0  14102100  1010           1  7081425895117451670   \n",
              "4      0  14102100  1005           0  7081425895117451670   \n",
              "\n",
              "           site_domain        site_category               app_id  \\\n",
              "0 -6342232362649856817    70941558938082641  2118615010478079586   \n",
              "1 -6342232362649856817    70941558938082641  7706718892903411547   \n",
              "2  3710178035007448784 -6435066881935304191  2118615010478079586   \n",
              "3 -6342232362649856817    70941558938082641 -6956137615761030439   \n",
              "4 -6342232362649856817    70941558938082641   502735525082687332   \n",
              "\n",
              "            app_domain         app_category  ...  device_type  \\\n",
              "0 -5350120886528339990   207772944492415760  ...            0   \n",
              "1 -7530412296524296424  7705063818798278748  ...            1   \n",
              "2 -5350120886528339990   207772944492415760  ...            1   \n",
              "3 -5350120886528339990  7705063818798278748  ...            4   \n",
              "4 -7576182283214150293  7705063818798278748  ...            1   \n",
              "\n",
              "   device_conn_type    C14  C15  C16   C17  C18  C19     C20  C21  \n",
              "0                 0  21682  320   50  2496    3  167  100191   23  \n",
              "1                 0  19743  320   50  2264    3  427  100000   61  \n",
              "2                 0  19016  300  250  2162    2   39      -1   33  \n",
              "3                 2  20352  320   50  2333    0   39      -1  157  \n",
              "4                 0  20980  320   50  2371    0  551  100215   46  \n",
              "\n",
              "[5 rows x 23 columns]"
            ]
          },
          "execution_count": 77,
          "metadata": {},
          "output_type": "execute_result"
        }
      ],
      "source": [
        "train.head()"
      ]
    },
    {
      "cell_type": "code",
      "execution_count": null,
      "id": "6bf70f6d",
      "metadata": {
        "id": "6bf70f6d"
      },
      "outputs": [],
      "source": [
        "x = train.drop(['device_model','device_ip','hour', 'C19', 'click'],axis=1)\n",
        "y = train.click"
      ]
    },
    {
      "cell_type": "code",
      "execution_count": null,
      "id": "138a1bb5",
      "metadata": {
        "id": "138a1bb5",
        "outputId": "8b240073-0631-4364-dc45-cddd2431c1f0"
      },
      "outputs": [
        {
          "name": "stdout",
          "output_type": "stream",
          "text": [
            "Requirement already satisfied: sklearn in c:\\users\\izkab\\appdata\\local\\programs\\python\\python310\\lib\\site-packages (0.0)\n",
            "Requirement already satisfied: scikit-learn in c:\\users\\izkab\\appdata\\local\\programs\\python\\python310\\lib\\site-packages (from sklearn) (1.0.2)\n",
            "Requirement already satisfied: joblib>=0.11 in c:\\users\\izkab\\appdata\\local\\programs\\python\\python310\\lib\\site-packages (from scikit-learn->sklearn) (1.1.0)\n",
            "Requirement already satisfied: threadpoolctl>=2.0.0 in c:\\users\\izkab\\appdata\\local\\programs\\python\\python310\\lib\\site-packages (from scikit-learn->sklearn) (3.0.0)\n",
            "Requirement already satisfied: scipy>=1.1.0 in c:\\users\\izkab\\appdata\\local\\programs\\python\\python310\\lib\\site-packages (from scikit-learn->sklearn) (1.7.3)\n",
            "Requirement already satisfied: numpy>=1.14.6 in c:\\users\\izkab\\appdata\\local\\programs\\python\\python310\\lib\\site-packages (from scikit-learn->sklearn) (1.21.5)\n"
          ]
        },
        {
          "name": "stderr",
          "output_type": "stream",
          "text": [
            "WARNING: You are using pip version 21.2.3; however, version 22.0.4 is available.\n",
            "You should consider upgrading via the 'C:\\Users\\izkab\\AppData\\Local\\Programs\\Python\\Python310\\python.exe -m pip install --upgrade pip' command.\n"
          ]
        }
      ],
      "source": [
        "!pip install sklearn"
      ]
    },
    {
      "cell_type": "code",
      "execution_count": null,
      "id": "fee7ec62",
      "metadata": {
        "id": "fee7ec62"
      },
      "outputs": [],
      "source": [
        "from sklearn.model_selection import train_test_split\n",
        "x_train,x_test,y_train,y_test = train_test_split(x,y,test_size = 0.2,random_state=17)"
      ]
    },
    {
      "cell_type": "markdown",
      "id": "32a249dd",
      "metadata": {
        "id": "32a249dd"
      },
      "source": [
        "### Choosing an estimator by comparing logarithmic loss of different models "
      ]
    },
    {
      "cell_type": "code",
      "execution_count": null,
      "id": "82bdc049",
      "metadata": {
        "id": "82bdc049",
        "outputId": "e179cc67-8d2c-4ef4-e483-008ef6a2303a"
      },
      "outputs": [
        {
          "name": "stdout",
          "output_type": "stream",
          "text": [
            "Requirement already satisfied: catboost in c:\\users\\izkab\\appdata\\local\\programs\\python\\python310\\lib\\site-packages (1.0.3)\n",
            "Requirement already satisfied: matplotlib in c:\\users\\izkab\\appdata\\local\\programs\\python\\python310\\lib\\site-packages (from catboost) (3.5.1)\n",
            "Requirement already satisfied: pandas>=0.24.0 in c:\\users\\izkab\\appdata\\local\\programs\\python\\python310\\lib\\site-packages (from catboost) (1.3.5)\n",
            "Requirement already satisfied: numpy>=1.16.0 in c:\\users\\izkab\\appdata\\local\\programs\\python\\python310\\lib\\site-packages (from catboost) (1.21.5)\n",
            "Requirement already satisfied: graphviz in c:\\users\\izkab\\appdata\\local\\programs\\python\\python310\\lib\\site-packages (from catboost) (0.19.1)\n",
            "Requirement already satisfied: scipy in c:\\users\\izkab\\appdata\\local\\programs\\python\\python310\\lib\\site-packages (from catboost) (1.7.3)\n",
            "Requirement already satisfied: six in c:\\users\\izkab\\appdata\\local\\programs\\python\\python310\\lib\\site-packages (from catboost) (1.16.0)\n",
            "Requirement already satisfied: plotly in c:\\users\\izkab\\appdata\\local\\programs\\python\\python310\\lib\\site-packages (from catboost) (5.5.0)\n",
            "Requirement already satisfied: pytz>=2017.3 in c:\\users\\izkab\\appdata\\local\\programs\\python\\python310\\lib\\site-packages (from pandas>=0.24.0->catboost) (2021.3)\n",
            "Requirement already satisfied: python-dateutil>=2.7.3 in c:\\users\\izkab\\appdata\\local\\programs\\python\\python310\\lib\\site-packages (from pandas>=0.24.0->catboost) (2.8.2)Note: you may need to restart the kernel to use updated packages.\n",
            "Requirement already satisfied: cycler>=0.10 in c:\\users\\izkab\\appdata\\local\\programs\\python\\python310\\lib\\site-packages (from matplotlib->catboost) (0.11.0)\n",
            "Requirement already satisfied: pyparsing>=2.2.1 in c:\\users\\izkab\\appdata\\local\\programs\\python\\python310\\lib\\site-packages (from matplotlib->catboost) (2.4.7)\n",
            "Requirement already satisfied: fonttools>=4.22.0 in c:\\users\\izkab\\appdata\\local\\programs\\python\\python310\\lib\\site-packages (from matplotlib->catboost) (4.28.5)\n",
            "Requirement already satisfied: kiwisolver>=1.0.1 in c:\\users\\izkab\\appdata\\local\\programs\\python\\python310\\lib\\site-packages (from matplotlib->catboost) (1.3.2)\n",
            "Requirement already satisfied: packaging>=20.0 in c:\\users\\izkab\\appdata\\local\\programs\\python\\python310\\lib\\site-packages (from matplotlib->catboost) (21.2)\n",
            "Requirement already satisfied: pillow>=6.2.0 in c:\\users\\izkab\\appdata\\local\\programs\\python\\python310\\lib\\site-packages (from matplotlib->catboost) (8.4.0)\n",
            "\n"
          ]
        },
        {
          "name": "stderr",
          "output_type": "stream",
          "text": [
            "WARNING: You are using pip version 21.2.3; however, version 22.0.4 is available.\n",
            "You should consider upgrading via the 'C:\\Users\\izkab\\AppData\\Local\\Programs\\Python\\Python310\\python.exe -m pip install --upgrade pip' command.\n"
          ]
        },
        {
          "name": "stdout",
          "output_type": "stream",
          "text": [
            "Requirement already satisfied: tenacity>=6.2.0 in c:\\users\\izkab\\appdata\\local\\programs\\python\\python310\\lib\\site-packages (from plotly->catboost) (8.0.1)\n"
          ]
        }
      ],
      "source": [
        "pip install catboost"
      ]
    },
    {
      "cell_type": "markdown",
      "id": "1f179e78",
      "metadata": {
        "id": "1f179e78"
      },
      "source": [
        "### Prediction using CatBoostClassifier"
      ]
    },
    {
      "cell_type": "code",
      "execution_count": null,
      "id": "1218b583",
      "metadata": {
        "id": "1218b583"
      },
      "outputs": [],
      "source": [
        "from catboost import CatBoostClassifier"
      ]
    },
    {
      "cell_type": "code",
      "execution_count": null,
      "id": "448df560",
      "metadata": {
        "id": "448df560"
      },
      "outputs": [],
      "source": [
        "cat_boost= CatBoostClassifier(learning_rate=0.05, loss_function='Logloss', \n",
        "                             random_state=111, iterations=100, eval_metric=\"Logloss\")\n",
        "# logloss because the target has only two different values"
      ]
    },
    {
      "cell_type": "code",
      "execution_count": null,
      "id": "d7377dee",
      "metadata": {
        "id": "d7377dee",
        "outputId": "94f6205f-56da-40ea-ab88-bbaa36005581"
      },
      "outputs": [
        {
          "data": {
            "text/plain": [
              "Index(['C1', 'banner_pos', 'site_id', 'site_domain', 'site_category', 'app_id',\n",
              "       'app_domain', 'app_category', 'device_id', 'device_type',\n",
              "       'device_conn_type', 'C14', 'C15', 'C16', 'C17', 'C18', 'C20', 'C21'],\n",
              "      dtype='object')"
            ]
          },
          "execution_count": 84,
          "metadata": {},
          "output_type": "execute_result"
        }
      ],
      "source": [
        "x_test.columns"
      ]
    },
    {
      "cell_type": "code",
      "execution_count": null,
      "id": "c6e66782",
      "metadata": {
        "id": "c6e66782",
        "outputId": "87f65327-ddaf-4cfc-ba66-3db049152cf6"
      },
      "outputs": [
        {
          "data": {
            "application/vnd.jupyter.widget-view+json": {
              "model_id": "cc4295e512c84c0ea85730522eaf017a",
              "version_major": 2,
              "version_minor": 0
            },
            "text/plain": [
              "MetricVisualizer(layout=Layout(align_self='stretch', height='500px'))"
            ]
          },
          "metadata": {},
          "output_type": "display_data"
        },
        {
          "name": "stdout",
          "output_type": "stream",
          "text": [
            "0:\tlearn: 0.6701865\ttest: 0.6701318\tbest: 0.6701318 (0)\ttotal: 567ms\tremaining: 56.2s\n",
            "1:\tlearn: 0.6494024\ttest: 0.6493857\tbest: 0.6493857 (1)\ttotal: 1.04s\tremaining: 50.9s\n",
            "2:\tlearn: 0.6306589\ttest: 0.6306696\tbest: 0.6306696 (2)\ttotal: 1.32s\tremaining: 42.7s\n",
            "3:\tlearn: 0.6135663\ttest: 0.6135972\tbest: 0.6135972 (3)\ttotal: 1.68s\tremaining: 40.4s\n",
            "4:\tlearn: 0.5975564\ttest: 0.5975657\tbest: 0.5975657 (4)\ttotal: 2.03s\tremaining: 38.5s\n",
            "5:\tlearn: 0.5829693\ttest: 0.5829252\tbest: 0.5829252 (5)\ttotal: 2.39s\tremaining: 37.4s\n",
            "6:\tlearn: 0.5695694\ttest: 0.5694581\tbest: 0.5694581 (6)\ttotal: 2.71s\tremaining: 36s\n",
            "7:\tlearn: 0.5572954\ttest: 0.5571683\tbest: 0.5571683 (7)\ttotal: 3.08s\tremaining: 35.4s\n",
            "8:\tlearn: 0.5460654\ttest: 0.5459514\tbest: 0.5459514 (8)\ttotal: 3.51s\tremaining: 35.5s\n",
            "9:\tlearn: 0.5357145\ttest: 0.5356008\tbest: 0.5356008 (9)\ttotal: 3.84s\tremaining: 34.5s\n",
            "10:\tlearn: 0.5261817\ttest: 0.5260917\tbest: 0.5260917 (10)\ttotal: 4.16s\tremaining: 33.7s\n",
            "11:\tlearn: 0.5175323\ttest: 0.5174049\tbest: 0.5174049 (11)\ttotal: 4.47s\tremaining: 32.8s\n",
            "12:\tlearn: 0.5092684\ttest: 0.5090610\tbest: 0.5090610 (12)\ttotal: 4.81s\tremaining: 32.2s\n",
            "13:\tlearn: 0.5016669\ttest: 0.5013266\tbest: 0.5013266 (13)\ttotal: 5.15s\tremaining: 31.6s\n",
            "14:\tlearn: 0.4946337\ttest: 0.4942011\tbest: 0.4942011 (14)\ttotal: 5.47s\tremaining: 31s\n",
            "15:\tlearn: 0.4881816\ttest: 0.4876702\tbest: 0.4876702 (15)\ttotal: 5.8s\tremaining: 30.4s\n",
            "16:\tlearn: 0.4822310\ttest: 0.4816864\tbest: 0.4816864 (16)\ttotal: 6.12s\tremaining: 29.9s\n",
            "17:\tlearn: 0.4767145\ttest: 0.4760984\tbest: 0.4760984 (17)\ttotal: 6.44s\tremaining: 29.3s\n",
            "18:\tlearn: 0.4716469\ttest: 0.4709657\tbest: 0.4709657 (18)\ttotal: 6.76s\tremaining: 28.8s\n",
            "19:\tlearn: 0.4670039\ttest: 0.4662474\tbest: 0.4662474 (19)\ttotal: 7.11s\tremaining: 28.4s\n",
            "20:\tlearn: 0.4626266\ttest: 0.4618406\tbest: 0.4618406 (20)\ttotal: 7.42s\tremaining: 27.9s\n",
            "21:\tlearn: 0.4585805\ttest: 0.4577451\tbest: 0.4577451 (21)\ttotal: 7.74s\tremaining: 27.4s\n",
            "22:\tlearn: 0.4548238\ttest: 0.4539647\tbest: 0.4539647 (22)\ttotal: 8.06s\tremaining: 27s\n",
            "23:\tlearn: 0.4513240\ttest: 0.4504681\tbest: 0.4504681 (23)\ttotal: 8.41s\tremaining: 26.6s\n",
            "24:\tlearn: 0.4480455\ttest: 0.4471837\tbest: 0.4471837 (24)\ttotal: 8.77s\tremaining: 26.3s\n",
            "25:\tlearn: 0.4450247\ttest: 0.4441237\tbest: 0.4441237 (25)\ttotal: 9.09s\tremaining: 25.9s\n",
            "26:\tlearn: 0.4422646\ttest: 0.4413563\tbest: 0.4413563 (26)\ttotal: 9.41s\tremaining: 25.4s\n",
            "27:\tlearn: 0.4397676\ttest: 0.4388692\tbest: 0.4388692 (27)\ttotal: 9.74s\tremaining: 25.1s\n",
            "28:\tlearn: 0.4373181\ttest: 0.4364161\tbest: 0.4364161 (28)\ttotal: 10.1s\tremaining: 24.6s\n",
            "29:\tlearn: 0.4350602\ttest: 0.4341330\tbest: 0.4341330 (29)\ttotal: 10.4s\tremaining: 24.2s\n",
            "30:\tlearn: 0.4330028\ttest: 0.4320870\tbest: 0.4320870 (30)\ttotal: 10.7s\tremaining: 23.8s\n",
            "31:\tlearn: 0.4310908\ttest: 0.4301744\tbest: 0.4301744 (31)\ttotal: 11s\tremaining: 23.4s\n",
            "32:\tlearn: 0.4293795\ttest: 0.4284444\tbest: 0.4284444 (32)\ttotal: 11.3s\tremaining: 23s\n",
            "33:\tlearn: 0.4277954\ttest: 0.4268313\tbest: 0.4268313 (33)\ttotal: 11.7s\tremaining: 22.6s\n",
            "34:\tlearn: 0.4262740\ttest: 0.4252657\tbest: 0.4252657 (34)\ttotal: 12s\tremaining: 22.2s\n",
            "35:\tlearn: 0.4249030\ttest: 0.4238703\tbest: 0.4238703 (35)\ttotal: 12.3s\tremaining: 21.8s\n",
            "36:\tlearn: 0.4235820\ttest: 0.4225479\tbest: 0.4225479 (36)\ttotal: 12.6s\tremaining: 21.5s\n",
            "37:\tlearn: 0.4224691\ttest: 0.4214339\tbest: 0.4214339 (37)\ttotal: 12.9s\tremaining: 21.1s\n",
            "38:\tlearn: 0.4212973\ttest: 0.4202596\tbest: 0.4202596 (38)\ttotal: 13.3s\tremaining: 20.7s\n",
            "39:\tlearn: 0.4202892\ttest: 0.4192311\tbest: 0.4192311 (39)\ttotal: 13.6s\tremaining: 20.4s\n",
            "40:\tlearn: 0.4192707\ttest: 0.4182305\tbest: 0.4182305 (40)\ttotal: 14s\tremaining: 20.1s\n",
            "41:\tlearn: 0.4183544\ttest: 0.4173198\tbest: 0.4173198 (41)\ttotal: 14.3s\tremaining: 19.8s\n",
            "42:\tlearn: 0.4175471\ttest: 0.4164914\tbest: 0.4164914 (42)\ttotal: 14.7s\tremaining: 19.5s\n",
            "43:\tlearn: 0.4167309\ttest: 0.4156778\tbest: 0.4156778 (43)\ttotal: 15s\tremaining: 19.1s\n",
            "44:\tlearn: 0.4159772\ttest: 0.4149078\tbest: 0.4149078 (44)\ttotal: 15.3s\tremaining: 18.7s\n",
            "45:\tlearn: 0.4152910\ttest: 0.4142140\tbest: 0.4142140 (45)\ttotal: 15.7s\tremaining: 18.4s\n",
            "46:\tlearn: 0.4146152\ttest: 0.4135278\tbest: 0.4135278 (46)\ttotal: 16s\tremaining: 18s\n",
            "47:\tlearn: 0.4140420\ttest: 0.4129442\tbest: 0.4129442 (47)\ttotal: 16.3s\tremaining: 17.7s\n",
            "48:\tlearn: 0.4134226\ttest: 0.4122955\tbest: 0.4122955 (48)\ttotal: 16.6s\tremaining: 17.3s\n",
            "49:\tlearn: 0.4128975\ttest: 0.4117353\tbest: 0.4117353 (49)\ttotal: 16.9s\tremaining: 16.9s\n",
            "50:\tlearn: 0.4123859\ttest: 0.4112250\tbest: 0.4112250 (50)\ttotal: 17.3s\tremaining: 16.6s\n",
            "51:\tlearn: 0.4118864\ttest: 0.4107057\tbest: 0.4107057 (51)\ttotal: 17.6s\tremaining: 16.3s\n",
            "52:\tlearn: 0.4114138\ttest: 0.4102102\tbest: 0.4102102 (52)\ttotal: 17.9s\tremaining: 15.9s\n",
            "53:\tlearn: 0.4109848\ttest: 0.4097728\tbest: 0.4097728 (53)\ttotal: 18.3s\tremaining: 15.6s\n",
            "54:\tlearn: 0.4106087\ttest: 0.4093835\tbest: 0.4093835 (54)\ttotal: 18.6s\tremaining: 15.2s\n",
            "55:\tlearn: 0.4102855\ttest: 0.4090367\tbest: 0.4090367 (55)\ttotal: 18.9s\tremaining: 14.9s\n",
            "56:\tlearn: 0.4099426\ttest: 0.4086900\tbest: 0.4086900 (56)\ttotal: 19.3s\tremaining: 14.5s\n",
            "57:\tlearn: 0.4096432\ttest: 0.4083856\tbest: 0.4083856 (57)\ttotal: 19.6s\tremaining: 14.2s\n",
            "58:\tlearn: 0.4093059\ttest: 0.4080328\tbest: 0.4080328 (58)\ttotal: 19.9s\tremaining: 13.9s\n",
            "59:\tlearn: 0.4090309\ttest: 0.4077501\tbest: 0.4077501 (59)\ttotal: 20.3s\tremaining: 13.5s\n",
            "60:\tlearn: 0.4087600\ttest: 0.4074682\tbest: 0.4074682 (60)\ttotal: 20.6s\tremaining: 13.2s\n",
            "61:\tlearn: 0.4085108\ttest: 0.4072074\tbest: 0.4072074 (61)\ttotal: 21s\tremaining: 12.8s\n",
            "62:\tlearn: 0.4082680\ttest: 0.4069523\tbest: 0.4069523 (62)\ttotal: 21.3s\tremaining: 12.5s\n",
            "63:\tlearn: 0.4081100\ttest: 0.4067850\tbest: 0.4067850 (63)\ttotal: 21.6s\tremaining: 12.1s\n",
            "64:\tlearn: 0.4079571\ttest: 0.4066279\tbest: 0.4066279 (64)\ttotal: 21.9s\tremaining: 11.8s\n",
            "65:\tlearn: 0.4077893\ttest: 0.4064574\tbest: 0.4064574 (65)\ttotal: 22.2s\tremaining: 11.5s\n",
            "66:\tlearn: 0.4076091\ttest: 0.4062666\tbest: 0.4062666 (66)\ttotal: 22.6s\tremaining: 11.1s\n",
            "67:\tlearn: 0.4074310\ttest: 0.4060693\tbest: 0.4060693 (67)\ttotal: 22.9s\tremaining: 10.8s\n",
            "68:\tlearn: 0.4072460\ttest: 0.4058615\tbest: 0.4058615 (68)\ttotal: 23.2s\tremaining: 10.4s\n",
            "69:\tlearn: 0.4071325\ttest: 0.4057445\tbest: 0.4057445 (69)\ttotal: 23.6s\tremaining: 10.1s\n",
            "70:\tlearn: 0.4069469\ttest: 0.4055403\tbest: 0.4055403 (70)\ttotal: 23.9s\tremaining: 9.76s\n",
            "71:\tlearn: 0.4068129\ttest: 0.4053915\tbest: 0.4053915 (71)\ttotal: 24.3s\tremaining: 9.43s\n",
            "72:\tlearn: 0.4067167\ttest: 0.4052953\tbest: 0.4052953 (72)\ttotal: 24.6s\tremaining: 9.1s\n",
            "73:\tlearn: 0.4066164\ttest: 0.4051857\tbest: 0.4051857 (73)\ttotal: 25s\tremaining: 8.77s\n",
            "74:\tlearn: 0.4065043\ttest: 0.4050685\tbest: 0.4050685 (74)\ttotal: 25.3s\tremaining: 8.43s\n",
            "75:\tlearn: 0.4064246\ttest: 0.4049885\tbest: 0.4049885 (75)\ttotal: 25.6s\tremaining: 8.09s\n",
            "76:\tlearn: 0.4063535\ttest: 0.4049176\tbest: 0.4049176 (76)\ttotal: 25.9s\tremaining: 7.75s\n",
            "77:\tlearn: 0.4062579\ttest: 0.4048146\tbest: 0.4048146 (77)\ttotal: 26.3s\tremaining: 7.41s\n",
            "78:\tlearn: 0.4061393\ttest: 0.4046816\tbest: 0.4046816 (78)\ttotal: 26.6s\tremaining: 7.07s\n",
            "79:\tlearn: 0.4060223\ttest: 0.4045471\tbest: 0.4045471 (79)\ttotal: 26.9s\tremaining: 6.73s\n",
            "80:\tlearn: 0.4059356\ttest: 0.4044543\tbest: 0.4044543 (80)\ttotal: 27.2s\tremaining: 6.39s\n",
            "81:\tlearn: 0.4058694\ttest: 0.4043826\tbest: 0.4043826 (81)\ttotal: 27.6s\tremaining: 6.05s\n",
            "82:\tlearn: 0.4057892\ttest: 0.4042861\tbest: 0.4042861 (82)\ttotal: 27.9s\tremaining: 5.71s\n",
            "83:\tlearn: 0.4056864\ttest: 0.4041640\tbest: 0.4041640 (83)\ttotal: 28.2s\tremaining: 5.38s\n",
            "84:\tlearn: 0.4056160\ttest: 0.4040717\tbest: 0.4040717 (84)\ttotal: 28.5s\tremaining: 5.03s\n",
            "85:\tlearn: 0.4055657\ttest: 0.4040209\tbest: 0.4040209 (85)\ttotal: 28.8s\tremaining: 4.69s\n",
            "86:\tlearn: 0.4054897\ttest: 0.4039336\tbest: 0.4039336 (86)\ttotal: 29.1s\tremaining: 4.35s\n",
            "87:\tlearn: 0.4054334\ttest: 0.4038683\tbest: 0.4038683 (87)\ttotal: 29.4s\tremaining: 4.01s\n",
            "88:\tlearn: 0.4053923\ttest: 0.4038330\tbest: 0.4038330 (88)\ttotal: 29.8s\tremaining: 3.68s\n",
            "89:\tlearn: 0.4053570\ttest: 0.4037944\tbest: 0.4037944 (89)\ttotal: 30.1s\tremaining: 3.35s\n",
            "90:\tlearn: 0.4053096\ttest: 0.4037439\tbest: 0.4037439 (90)\ttotal: 30.4s\tremaining: 3.01s\n",
            "91:\tlearn: 0.4052484\ttest: 0.4036629\tbest: 0.4036629 (91)\ttotal: 30.7s\tremaining: 2.67s\n",
            "92:\tlearn: 0.4051745\ttest: 0.4035817\tbest: 0.4035817 (92)\ttotal: 31.1s\tremaining: 2.34s\n",
            "93:\tlearn: 0.4051248\ttest: 0.4035358\tbest: 0.4035358 (93)\ttotal: 31.4s\tremaining: 2s\n",
            "94:\tlearn: 0.4050918\ttest: 0.4034902\tbest: 0.4034902 (94)\ttotal: 31.7s\tremaining: 1.67s\n",
            "95:\tlearn: 0.4050305\ttest: 0.4034225\tbest: 0.4034225 (95)\ttotal: 32s\tremaining: 1.33s\n",
            "96:\tlearn: 0.4050033\ttest: 0.4033887\tbest: 0.4033887 (96)\ttotal: 32.3s\tremaining: 999ms\n",
            "97:\tlearn: 0.4049636\ttest: 0.4033498\tbest: 0.4033498 (97)\ttotal: 32.6s\tremaining: 665ms\n",
            "98:\tlearn: 0.4048898\ttest: 0.4032642\tbest: 0.4032642 (98)\ttotal: 32.9s\tremaining: 332ms\n",
            "99:\tlearn: 0.4048394\ttest: 0.4031998\tbest: 0.4031998 (99)\ttotal: 33.2s\tremaining: 0us\n",
            "\n",
            "bestTest = 0.40319978\n",
            "bestIteration = 99\n",
            "\n"
          ]
        },
        {
          "data": {
            "text/plain": [
              "<catboost.core.CatBoostClassifier at 0x196caf07910>"
            ]
          },
          "execution_count": 85,
          "metadata": {},
          "output_type": "execute_result"
        }
      ],
      "source": [
        "cat_boost.fit(x_train, y_train, eval_set=(x_test, y_test), cat_features= ['C1', 'banner_pos', 'site_id', \n",
        "        'site_domain', 'site_category', 'app_id', 'app_domain', 'app_category', 'device_id', 'device_type',\n",
        "        'device_conn_type', 'C14', 'C15', 'C16', 'C17', 'C18', 'C20', 'C21'], plot=True)"
      ]
    },
    {
      "cell_type": "code",
      "execution_count": null,
      "id": "366eab3a",
      "metadata": {
        "id": "366eab3a"
      },
      "outputs": [],
      "source": [
        "predictions= cat_boost.predict(x_test, prediction_type=\"Class\", ntree_start=0, ntree_end= cat_boost.get_best_iteration(),\n",
        "                               thread_count=-1, verbose=None)"
      ]
    },
    {
      "cell_type": "code",
      "execution_count": null,
      "id": "4eb130c3",
      "metadata": {
        "id": "4eb130c3",
        "outputId": "c527f65b-75c6-4c2c-a634-64605aaef429"
      },
      "outputs": [
        {
          "data": {
            "text/html": [
              "<div>\n",
              "<style scoped>\n",
              "    .dataframe tbody tr th:only-of-type {\n",
              "        vertical-align: middle;\n",
              "    }\n",
              "\n",
              "    .dataframe tbody tr th {\n",
              "        vertical-align: top;\n",
              "    }\n",
              "\n",
              "    .dataframe thead th {\n",
              "        text-align: right;\n",
              "    }\n",
              "</style>\n",
              "<table border=\"1\" class=\"dataframe\">\n",
              "  <thead>\n",
              "    <tr style=\"text-align: right;\">\n",
              "      <th></th>\n",
              "      <th>Feature Id</th>\n",
              "      <th>Importances</th>\n",
              "    </tr>\n",
              "  </thead>\n",
              "  <tbody>\n",
              "    <tr>\n",
              "      <th>0</th>\n",
              "      <td>site_id</td>\n",
              "      <td>36.083276</td>\n",
              "    </tr>\n",
              "    <tr>\n",
              "      <th>1</th>\n",
              "      <td>app_id</td>\n",
              "      <td>28.712465</td>\n",
              "    </tr>\n",
              "    <tr>\n",
              "      <th>2</th>\n",
              "      <td>C17</td>\n",
              "      <td>7.841938</td>\n",
              "    </tr>\n",
              "    <tr>\n",
              "      <th>3</th>\n",
              "      <td>C14</td>\n",
              "      <td>6.864991</td>\n",
              "    </tr>\n",
              "    <tr>\n",
              "      <th>4</th>\n",
              "      <td>site_domain</td>\n",
              "      <td>6.324283</td>\n",
              "    </tr>\n",
              "    <tr>\n",
              "      <th>5</th>\n",
              "      <td>C21</td>\n",
              "      <td>3.904079</td>\n",
              "    </tr>\n",
              "    <tr>\n",
              "      <th>6</th>\n",
              "      <td>site_category</td>\n",
              "      <td>1.608441</td>\n",
              "    </tr>\n",
              "    <tr>\n",
              "      <th>7</th>\n",
              "      <td>device_id</td>\n",
              "      <td>1.356979</td>\n",
              "    </tr>\n",
              "    <tr>\n",
              "      <th>8</th>\n",
              "      <td>device_conn_type</td>\n",
              "      <td>1.200126</td>\n",
              "    </tr>\n",
              "    <tr>\n",
              "      <th>9</th>\n",
              "      <td>C18</td>\n",
              "      <td>1.173033</td>\n",
              "    </tr>\n",
              "    <tr>\n",
              "      <th>10</th>\n",
              "      <td>app_category</td>\n",
              "      <td>1.116620</td>\n",
              "    </tr>\n",
              "    <tr>\n",
              "      <th>11</th>\n",
              "      <td>C16</td>\n",
              "      <td>0.915716</td>\n",
              "    </tr>\n",
              "    <tr>\n",
              "      <th>12</th>\n",
              "      <td>banner_pos</td>\n",
              "      <td>0.836353</td>\n",
              "    </tr>\n",
              "    <tr>\n",
              "      <th>13</th>\n",
              "      <td>app_domain</td>\n",
              "      <td>0.770137</td>\n",
              "    </tr>\n",
              "    <tr>\n",
              "      <th>14</th>\n",
              "      <td>C20</td>\n",
              "      <td>0.621838</td>\n",
              "    </tr>\n",
              "    <tr>\n",
              "      <th>15</th>\n",
              "      <td>C15</td>\n",
              "      <td>0.469740</td>\n",
              "    </tr>\n",
              "    <tr>\n",
              "      <th>16</th>\n",
              "      <td>C1</td>\n",
              "      <td>0.160624</td>\n",
              "    </tr>\n",
              "    <tr>\n",
              "      <th>17</th>\n",
              "      <td>device_type</td>\n",
              "      <td>0.039359</td>\n",
              "    </tr>\n",
              "  </tbody>\n",
              "</table>\n",
              "</div>"
            ],
            "text/plain": [
              "          Feature Id  Importances\n",
              "0            site_id    36.083276\n",
              "1             app_id    28.712465\n",
              "2                C17     7.841938\n",
              "3                C14     6.864991\n",
              "4        site_domain     6.324283\n",
              "5                C21     3.904079\n",
              "6      site_category     1.608441\n",
              "7          device_id     1.356979\n",
              "8   device_conn_type     1.200126\n",
              "9                C18     1.173033\n",
              "10      app_category     1.116620\n",
              "11               C16     0.915716\n",
              "12        banner_pos     0.836353\n",
              "13        app_domain     0.770137\n",
              "14               C20     0.621838\n",
              "15               C15     0.469740\n",
              "16                C1     0.160624\n",
              "17       device_type     0.039359"
            ]
          },
          "execution_count": 87,
          "metadata": {},
          "output_type": "execute_result"
        }
      ],
      "source": [
        "feature_importance = cat_boost.get_feature_importance(prettified=True).sort_index(ascending=True)\n",
        "feature_importance"
      ]
    },
    {
      "cell_type": "code",
      "execution_count": null,
      "id": "54dfcac0",
      "metadata": {
        "id": "54dfcac0",
        "outputId": "74906dd3-fd19-4bbe-80c5-080fcd6d1ed9"
      },
      "outputs": [
        {
          "name": "stdout",
          "output_type": "stream",
          "text": [
            "[[164610   1491]\n",
            " [ 31654   2245]]\n"
          ]
        }
      ],
      "source": [
        "from sklearn.metrics import confusion_matrix\n",
        "\n",
        "matrix = confusion_matrix(y_test,predictions)\n",
        "print(matrix)"
      ]
    },
    {
      "cell_type": "code",
      "execution_count": null,
      "id": "261d39ee",
      "metadata": {
        "id": "261d39ee",
        "outputId": "1f10b129-fb7f-424b-9a3d-fe1205da85d9"
      },
      "outputs": [
        {
          "data": {
            "text/plain": [
              "(164610, 1491, 31654, 2245)"
            ]
          },
          "execution_count": 89,
          "metadata": {},
          "output_type": "execute_result"
        }
      ],
      "source": [
        "tn, fp, fn, tp = matrix.ravel()\n",
        "(tn, fp, fn, tp)"
      ]
    },
    {
      "cell_type": "code",
      "execution_count": null,
      "id": "8ae2c48c",
      "metadata": {
        "id": "8ae2c48c",
        "outputId": "c31783a5-a0fc-4fcd-b990-cb0ce775052c"
      },
      "outputs": [
        {
          "name": "stdout",
          "output_type": "stream",
          "text": [
            "Precision: 0.7984101110884623\n",
            "Recall: 0.834275\n"
          ]
        }
      ],
      "source": [
        "from sklearn.metrics import precision_score,recall_score\n",
        "\n",
        "precision = precision_score(y_test, predictions, average = 'weighted')\n",
        "print(\"Precision: %s\" %(precision))\n",
        "recall = recall_score(y_test, predictions, average = 'weighted')\n",
        "print(\"Recall: %s\" %(recall))"
      ]
    },
    {
      "cell_type": "code",
      "execution_count": null,
      "id": "fc1acfa7",
      "metadata": {
        "id": "fc1acfa7",
        "outputId": "a47ad9e2-dd99-498a-ea44-081bda0d077a"
      },
      "outputs": [
        {
          "data": {
            "text/plain": [
              "5.723944679045417"
            ]
          },
          "execution_count": 91,
          "metadata": {},
          "output_type": "execute_result"
        }
      ],
      "source": [
        "from sklearn.metrics import log_loss\n",
        "\n",
        "loss = log_loss(y_test, predictions)\n",
        "loss"
      ]
    },
    {
      "cell_type": "code",
      "execution_count": null,
      "id": "2bad872b",
      "metadata": {
        "id": "2bad872b"
      },
      "outputs": [],
      "source": [
        "from sklearn.tree import DecisionTreeClassifier\n",
        "\n",
        "tree = DecisionTreeClassifier(max_depth = 10, random_state = 111)\n",
        "tree.fit(x_train,y_train)\n",
        "tree_predictions = tree.predict(x_test)\n"
      ]
    },
    {
      "cell_type": "code",
      "execution_count": null,
      "id": "2feade46",
      "metadata": {
        "id": "2feade46",
        "outputId": "a2c9cdea-2724-4251-f86d-aa015d914e3c"
      },
      "outputs": [
        {
          "name": "stdout",
          "output_type": "stream",
          "text": [
            "[[164213   1888]\n",
            " [ 31454   2445]]\n"
          ]
        }
      ],
      "source": [
        "matrix2 = confusion_matrix(y_test,tree_predictions)\n",
        "print(matrix2)"
      ]
    },
    {
      "cell_type": "code",
      "execution_count": null,
      "id": "95c6b4c8",
      "metadata": {
        "id": "95c6b4c8",
        "outputId": "9ae09283-bb61-4c63-87ac-495b5101e604"
      },
      "outputs": [
        {
          "data": {
            "text/plain": [
              "(164213, 1888, 31454, 2445)"
            ]
          },
          "execution_count": 94,
          "metadata": {},
          "output_type": "execute_result"
        }
      ],
      "source": [
        "tn, fp, fn, tp = matrix2.ravel()\n",
        "(tn, fp, fn, tp)"
      ]
    },
    {
      "cell_type": "code",
      "execution_count": null,
      "id": "1403b772",
      "metadata": {
        "id": "1403b772",
        "outputId": "80d2f0f4-00df-4df4-96fd-ad88150cf1b4"
      },
      "outputs": [
        {
          "name": "stdout",
          "output_type": "stream",
          "text": [
            "Precision: 0.7926407240166894\n",
            "Recall: 0.83329\n"
          ]
        }
      ],
      "source": [
        "precision = precision_score(y_test, tree_predictions, average = 'weighted')\n",
        "print(\"Precision: %s\" %(precision))\n",
        "recall = recall_score(y_test, tree_predictions, average = 'weighted')\n",
        "print(\"Recall: %s\" %(recall))"
      ]
    },
    {
      "cell_type": "code",
      "execution_count": null,
      "id": "6b23ef94",
      "metadata": {
        "id": "6b23ef94",
        "outputId": "0bd37d02-3153-491f-b853-91012b01dc54"
      },
      "outputs": [
        {
          "data": {
            "text/plain": [
              "5.7579669609953"
            ]
          },
          "execution_count": 96,
          "metadata": {},
          "output_type": "execute_result"
        }
      ],
      "source": [
        "from sklearn.metrics import log_loss\n",
        "\n",
        "loss = log_loss(y_test, tree_predictions)\n",
        "loss"
      ]
    }
  ],
  "metadata": {
    "kernelspec": {
      "display_name": "Python 3 (ipykernel)",
      "language": "python",
      "name": "python3"
    },
    "language_info": {
      "codemirror_mode": {
        "name": "ipython",
        "version": 3
      },
      "file_extension": ".py",
      "mimetype": "text/x-python",
      "name": "python",
      "nbconvert_exporter": "python",
      "pygments_lexer": "ipython3",
      "version": "3.10.0"
    },
    "colab": {
      "name": "CTR prediction.ipynb",
      "provenance": [],
      "include_colab_link": true
    }
  },
  "nbformat": 4,
  "nbformat_minor": 5
}